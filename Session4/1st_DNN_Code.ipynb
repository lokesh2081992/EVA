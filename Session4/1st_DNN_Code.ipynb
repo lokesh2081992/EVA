{
  "nbformat": 4,
  "nbformat_minor": 0,
  "metadata": {
    "colab": {
      "name": "1st DNN Code.ipynb",
      "version": "0.3.2",
      "provenance": [],
      "collapsed_sections": []
    },
    "kernelspec": {
      "name": "python3",
      "display_name": "Python 3"
    },
    "accelerator": "GPU"
  },
  "cells": [
    {
      "cell_type": "markdown",
      "metadata": {
        "id": "-nJ7YEw_vyjG",
        "colab_type": "text"
      },
      "source": [
        "# # Thoughts on the Network\n",
        "\n",
        "* Created the basic vannila architecture in such a way that increase the channels from 32 in each layer upto 256 and decrease back to 32 with one maxpooling layer after three convolutions\n",
        "* In this architecture i have observed that by using incremental architecture number of parameters gets huge and felt that these many parameters are not required for simple datasets\n"
      ]
    },
    {
      "cell_type": "code",
      "metadata": {
        "id": "kGWv5hBhv2jf",
        "colab_type": "code",
        "colab": {}
      },
      "source": [
        "# https://keras.io/\n",
        "!pip install -q keras\n",
        "import keras"
      ],
      "execution_count": 0,
      "outputs": []
    },
    {
      "cell_type": "code",
      "metadata": {
        "id": "wnMlDJQKv4VG",
        "colab_type": "code",
        "colab": {}
      },
      "source": [
        "import numpy as np\n",
        "\n",
        "from keras.models import Sequential\n",
        "from keras.layers import Flatten\n",
        "from keras.layers import Convolution2D\n",
        "from keras.utils import np_utils\n",
        "\n",
        "from keras.datasets import mnist"
      ],
      "execution_count": 0,
      "outputs": []
    },
    {
      "cell_type": "code",
      "metadata": {
        "id": "8CdSu2lMwB9s",
        "colab_type": "code",
        "colab": {}
      },
      "source": [
        "#Loading the mnist data Splitting the data into train and test\n",
        "(X_train, y_train), (X_test, y_test) = mnist.load_data()"
      ],
      "execution_count": 0,
      "outputs": []
    },
    {
      "cell_type": "code",
      "metadata": {
        "id": "tLaDf0-rwCmj",
        "colab_type": "code",
        "outputId": "135b44aa-5f2b-40f5-a32a-8bc91e2620be",
        "colab": {
          "base_uri": "https://localhost:8080/",
          "height": 303
        }
      },
      "source": [
        "print (X_train.shape) #Print the shape of the train data\n",
        "from matplotlib import pyplot as plt\n",
        "%matplotlib inline\n",
        "plt.imshow(X_train[0]) #Print the first image from the train data"
      ],
      "execution_count": 0,
      "outputs": [
        {
          "output_type": "stream",
          "text": [
            "(60000, 28, 28)\n"
          ],
          "name": "stdout"
        },
        {
          "output_type": "execute_result",
          "data": {
            "text/plain": [
              "<matplotlib.image.AxesImage at 0x7f77c1b8bf98>"
            ]
          },
          "metadata": {
            "tags": []
          },
          "execution_count": 18
        },
        {
          "output_type": "display_data",
          "data": {
            "image/png": "[encoded data removed]",
            "text/plain": [
              "<Figure size 432x288 with 1 Axes>"
            ]
          },
          "metadata": {
            "tags": []
          }
        }
      ]
    },
    {
      "cell_type": "code",
      "metadata": {
        "id": "erb11jNwwFwl",
        "colab_type": "code",
        "colab": {}
      },
      "source": [
        "X_train = X_train.reshape(X_train.shape[0], 28, 28,1)\n",
        "X_test = X_test.reshape(X_test.shape[0], 28, 28,1)"
      ],
      "execution_count": 0,
      "outputs": []
    },
    {
      "cell_type": "code",
      "metadata": {
        "id": "hG8Rb_upNrfo",
        "colab_type": "code",
        "outputId": "2aa51a90-af56-4c88-cb9f-1c524338e4f8",
        "colab": {
          "base_uri": "https://localhost:8080/",
          "height": 34
        }
      },
      "source": [
        "X_train.shape"
      ],
      "execution_count": 0,
      "outputs": [
        {
          "output_type": "execute_result",
          "data": {
            "text/plain": [
              "(60000, 28, 28, 1)"
            ]
          },
          "metadata": {
            "tags": []
          },
          "execution_count": 20
        }
      ]
    },
    {
      "cell_type": "code",
      "metadata": {
        "id": "RLK4YDoRwHet",
        "colab_type": "code",
        "colab": {}
      },
      "source": [
        "X_train = X_train.astype('float32')\n",
        "X_test = X_test.astype('float32')\n",
        "X_train /= 255\n",
        "X_test /= 255"
      ],
      "execution_count": 0,
      "outputs": []
    },
    {
      "cell_type": "code",
      "metadata": {
        "id": "JNKLOmhlwJQl",
        "colab_type": "code",
        "outputId": "9ab08e13-fbd4-4245-c101-2492780484a3",
        "colab": {
          "base_uri": "https://localhost:8080/",
          "height": 34
        }
      },
      "source": [
        "#Print the \n",
        "y_train[:10]"
      ],
      "execution_count": 0,
      "outputs": [
        {
          "output_type": "execute_result",
          "data": {
            "text/plain": [
              "array([5, 0, 4, 1, 9, 2, 1, 3, 1, 4], dtype=uint8)"
            ]
          },
          "metadata": {
            "tags": []
          },
          "execution_count": 22
        }
      ]
    },
    {
      "cell_type": "code",
      "metadata": {
        "id": "YusMJguiwKsM",
        "colab_type": "code",
        "colab": {}
      },
      "source": [
        "# Convert 1-dimensional class arrays to 10-dimensional class matrices\n",
        "Y_train = np_utils.to_categorical(y_train, 10)\n",
        "Y_test = np_utils.to_categorical(y_test, 10)"
      ],
      "execution_count": 0,
      "outputs": []
    },
    {
      "cell_type": "code",
      "metadata": {
        "id": "upxc99AswMW0",
        "colab_type": "code",
        "outputId": "a4a9c2f2-3249-4a35-ffa7-bc15e0796339",
        "colab": {
          "base_uri": "https://localhost:8080/",
          "height": 187
        }
      },
      "source": [
        "Y_train[:10]\n"
      ],
      "execution_count": 0,
      "outputs": [
        {
          "output_type": "execute_result",
          "data": {
            "text/plain": [
              "array([[0., 0., 0., 0., 0., 1., 0., 0., 0., 0.],\n",
              "       [1., 0., 0., 0., 0., 0., 0., 0., 0., 0.],\n",
              "       [0., 0., 0., 0., 1., 0., 0., 0., 0., 0.],\n",
              "       [0., 1., 0., 0., 0., 0., 0., 0., 0., 0.],\n",
              "       [0., 0., 0., 0., 0., 0., 0., 0., 0., 1.],\n",
              "       [0., 0., 1., 0., 0., 0., 0., 0., 0., 0.],\n",
              "       [0., 1., 0., 0., 0., 0., 0., 0., 0., 0.],\n",
              "       [0., 0., 0., 1., 0., 0., 0., 0., 0., 0.],\n",
              "       [0., 1., 0., 0., 0., 0., 0., 0., 0., 0.],\n",
              "       [0., 0., 0., 0., 1., 0., 0., 0., 0., 0.]], dtype=float32)"
            ]
          },
          "metadata": {
            "tags": []
          },
          "execution_count": 24
        }
      ]
    },
    {
      "cell_type": "code",
      "metadata": {
        "id": "irTVUE47wNwr",
        "colab_type": "code",
        "outputId": "b8f322bb-3d65-4358-ede8-c675be19f151",
        "colab": {
          "base_uri": "https://localhost:8080/",
          "height": 802
        }
      },
      "source": [
        "from keras.layers import Activation, MaxPooling2D\n",
        "\n",
        "model = Sequential() \n",
        "model.add(Convolution2D(32, 3, 3, activation='relu', input_shape=(28,28,1))) # Ip : 28*28*1 ;  Rec field : 3*3 ; O/P : 26*26*32\n",
        "model.add(Convolution2D(64, 3, 3, activation='relu')) # Ip : 26*26*32   Rec field : 5*5  ; O/P : 24*24*64\n",
        "model.add(Convolution2D(128, 3, 3, activation='relu')) # Ip : 24*24*64   Rec field : 7*7  ; O/P : 22*22*128\n",
        "\n",
        "model.add(MaxPooling2D(pool_size=(2, 2))) # Ip : 22*22*128   Rec field : 14*14  ; O/P : 11*11*128\n",
        "\n",
        "model.add(Convolution2D(256, 3, 3, activation='relu')) # Ip : 11*11*128   Rec field : 16*16  ; O/P : 9*9*256\n",
        "model.add(Convolution2D(128, 3, 3, activation='relu')) # Ip : 9*9*256   Rec field : 18*18  ; O/P : 7*7*512\n",
        "model.add(Convolution2D(64, 3, 3, activation='relu')) # Ip : 7*7*512   Rec field : 20*20  ; O/P : 5*5*1024\n",
        "model.add(Convolution2D(32, 3, 3, activation='relu')) # Ip : 5*5*1024   Rec field : 22*22  ; O/P : 3*3*2048\n",
        "model.add(Convolution2D(10, 3, 3, activation='relu')) # Ip : 3*3*2048   Rec field : 24*24  ; O/P : 1*1*10\n",
        "\n",
        "model.add(Flatten())\n",
        "model.add(Activation('softmax'))\n",
        "\n",
        "model.summary()"
      ],
      "execution_count": 0,
      "outputs": [
        {
          "output_type": "stream",
          "text": [
            "_________________________________________________________________\n",
            "Layer (type)                 Output Shape              Param #   \n",
            "=================================================================\n",
            "conv2d_9 (Conv2D)            (None, 26, 26, 32)        320       \n",
            "_________________________________________________________________\n",
            "conv2d_10 (Conv2D)           (None, 24, 24, 64)        18496     \n",
            "_________________________________________________________________\n",
            "conv2d_11 (Conv2D)           (None, 22, 22, 128)       73856     \n",
            "_________________________________________________________________\n",
            "max_pooling2d_2 (MaxPooling2 (None, 11, 11, 128)       0         \n",
            "_________________________________________________________________\n",
            "conv2d_12 (Conv2D)           (None, 9, 9, 256)         295168    \n",
            "_________________________________________________________________\n",
            "conv2d_13 (Conv2D)           (None, 7, 7, 128)         295040    \n",
            "_________________________________________________________________\n",
            "conv2d_14 (Conv2D)           (None, 5, 5, 64)          73792     \n",
            "_________________________________________________________________\n",
            "conv2d_15 (Conv2D)           (None, 3, 3, 32)          18464     \n",
            "_________________________________________________________________\n",
            "conv2d_16 (Conv2D)           (None, 1, 1, 10)          2890      \n",
            "_________________________________________________________________\n",
            "flatten_2 (Flatten)          (None, 10)                0         \n",
            "_________________________________________________________________\n",
            "activation_2 (Activation)    (None, 10)                0         \n",
            "=================================================================\n",
            "Total params: 778,026\n",
            "Trainable params: 778,026\n",
            "Non-trainable params: 0\n",
            "_________________________________________________________________\n"
          ],
          "name": "stdout"
        },
        {
          "output_type": "stream",
          "text": [
            "/usr/local/lib/python3.6/dist-packages/ipykernel_launcher.py:4: UserWarning: Update your `Conv2D` call to the Keras 2 API: `Conv2D(32, (3, 3), activation=\"relu\", input_shape=(28, 28, 1...)`\n",
            "  after removing the cwd from sys.path.\n",
            "/usr/local/lib/python3.6/dist-packages/ipykernel_launcher.py:5: UserWarning: Update your `Conv2D` call to the Keras 2 API: `Conv2D(64, (3, 3), activation=\"relu\")`\n",
            "  \"\"\"\n",
            "/usr/local/lib/python3.6/dist-packages/ipykernel_launcher.py:6: UserWarning: Update your `Conv2D` call to the Keras 2 API: `Conv2D(128, (3, 3), activation=\"relu\")`\n",
            "  \n",
            "/usr/local/lib/python3.6/dist-packages/ipykernel_launcher.py:10: UserWarning: Update your `Conv2D` call to the Keras 2 API: `Conv2D(256, (3, 3), activation=\"relu\")`\n",
            "  # Remove the CWD from sys.path while we load stuff.\n",
            "/usr/local/lib/python3.6/dist-packages/ipykernel_launcher.py:11: UserWarning: Update your `Conv2D` call to the Keras 2 API: `Conv2D(128, (3, 3), activation=\"relu\")`\n",
            "  # This is added back by InteractiveShellApp.init_path()\n",
            "/usr/local/lib/python3.6/dist-packages/ipykernel_launcher.py:12: UserWarning: Update your `Conv2D` call to the Keras 2 API: `Conv2D(64, (3, 3), activation=\"relu\")`\n",
            "  if sys.path[0] == '':\n",
            "/usr/local/lib/python3.6/dist-packages/ipykernel_launcher.py:13: UserWarning: Update your `Conv2D` call to the Keras 2 API: `Conv2D(32, (3, 3), activation=\"relu\")`\n",
            "  del sys.path[0]\n",
            "/usr/local/lib/python3.6/dist-packages/ipykernel_launcher.py:14: UserWarning: Update your `Conv2D` call to the Keras 2 API: `Conv2D(10, (3, 3), activation=\"relu\")`\n",
            "  \n"
          ],
          "name": "stderr"
        }
      ]
    },
    {
      "cell_type": "code",
      "metadata": {
        "id": "VYZOpRb6yG7_",
        "colab_type": "code",
        "colab": {}
      },
      "source": [
        "#Compiling the model with loss function as cross entropy and optimizer using adam with evaluation metric as accuracy\n",
        "model.compile(loss='categorical_crossentropy',\n",
        "             optimizer='adam',\n",
        "             metrics=['accuracy'])"
      ],
      "execution_count": 0,
      "outputs": []
    },
    {
      "cell_type": "code",
      "metadata": {
        "id": "5O248wVQyMft",
        "colab_type": "code",
        "outputId": "2f6096d6-470f-4e93-dfa0-4f8e267e3588",
        "colab": {
          "base_uri": "https://localhost:8080/",
          "height": 615
        }
      },
      "source": [
        "#Run the model with the batch size as 32 i.e. running 32 records as one batch, number of ephocs as 10 and verbose(output format) as 1\n",
        "model.fit(X_train, Y_train, batch_size=32, nb_epoch=15, verbose=1, validation_data=(X_test,Y_test))"
      ],
      "execution_count": 0,
      "outputs": [
        {
          "output_type": "stream",
          "text": [
            "Train on 60000 samples, validate on 10000 samples\n",
            "Epoch 1/15\n",
            "  352/60000 [..............................] - ETA: 23s - loss: 0.9309 - acc: 0.6847"
          ],
          "name": "stdout"
        },
        {
          "output_type": "stream",
          "text": [
            "/usr/local/lib/python3.6/dist-packages/ipykernel_launcher.py:1: UserWarning: The `nb_epoch` argument in `fit` has been renamed `epochs`.\n",
            "  \"\"\"Entry point for launching an IPython kernel.\n"
          ],
          "name": "stderr"
        },
        {
          "output_type": "stream",
          "text": [
            "60000/60000 [==============================] - 18s 295us/step - loss: 0.7858 - acc: 0.7635 - val_loss: 0.7039 - val_acc: 0.7981\n",
            "Epoch 2/15\n",
            "60000/60000 [==============================] - 18s 293us/step - loss: 0.7082 - acc: 0.7957 - val_loss: 0.7007 - val_acc: 0.7980\n",
            "Epoch 3/15\n",
            "60000/60000 [==============================] - 18s 302us/step - loss: 0.7027 - acc: 0.7974 - val_loss: 0.7016 - val_acc: 0.7978\n",
            "Epoch 4/15\n",
            "60000/60000 [==============================] - 18s 294us/step - loss: 0.7019 - acc: 0.7973 - val_loss: 0.7045 - val_acc: 0.7982\n",
            "Epoch 5/15\n",
            "60000/60000 [==============================] - 18s 292us/step - loss: 0.6994 - acc: 0.7979 - val_loss: 0.7140 - val_acc: 0.7968\n",
            "Epoch 6/15\n",
            "60000/60000 [==============================] - 18s 297us/step - loss: 0.6991 - acc: 0.7981 - val_loss: 0.6992 - val_acc: 0.7987\n",
            "Epoch 7/15\n",
            "60000/60000 [==============================] - 18s 297us/step - loss: 0.6958 - acc: 0.7992 - val_loss: 0.7231 - val_acc: 0.7954\n",
            "Epoch 8/15\n",
            "60000/60000 [==============================] - 18s 297us/step - loss: 0.6981 - acc: 0.7988 - val_loss: 0.7304 - val_acc: 0.7939\n",
            "Epoch 9/15\n",
            "60000/60000 [==============================] - 18s 292us/step - loss: 0.6972 - acc: 0.7988 - val_loss: 0.7051 - val_acc: 0.7981\n",
            "Epoch 10/15\n",
            "60000/60000 [==============================] - 18s 293us/step - loss: 0.6963 - acc: 0.7992 - val_loss: 0.7180 - val_acc: 0.7968\n",
            "Epoch 11/15\n",
            "60000/60000 [==============================] - 18s 292us/step - loss: 0.6960 - acc: 0.7991 - val_loss: 0.7121 - val_acc: 0.7983\n",
            "Epoch 12/15\n",
            "60000/60000 [==============================] - 18s 300us/step - loss: 0.6949 - acc: 0.7993 - val_loss: 0.7290 - val_acc: 0.7943\n",
            "Epoch 13/15\n",
            "60000/60000 [==============================] - 17s 291us/step - loss: 0.6944 - acc: 0.7995 - val_loss: 0.7221 - val_acc: 0.7953\n",
            "Epoch 14/15\n",
            "60000/60000 [==============================] - 17s 292us/step - loss: 0.6977 - acc: 0.7990 - val_loss: 0.7358 - val_acc: 0.7956\n",
            "Epoch 15/15\n",
            "60000/60000 [==============================] - 18s 292us/step - loss: 0.6965 - acc: 0.7992 - val_loss: 0.7377 - val_acc: 0.7955\n"
          ],
          "name": "stdout"
        },
        {
          "output_type": "execute_result",
          "data": {
            "text/plain": [
              "<keras.callbacks.History at 0x7f77c0acb358>"
            ]
          },
          "metadata": {
            "tags": []
          },
          "execution_count": 28
        }
      ]
    },
    {
      "cell_type": "code",
      "metadata": {
        "id": "Sst4KneiyOL5",
        "colab_type": "code",
        "colab": {}
      },
      "source": [
        "# Evaluate the model and store the scores in a variable\n",
        "score = model.evaluate(X_test, Y_test, verbose=0)"
      ],
      "execution_count": 0,
      "outputs": []
    },
    {
      "cell_type": "code",
      "metadata": {
        "id": "CfJiXOKsyj4y",
        "colab_type": "code",
        "colab": {}
      },
      "source": [
        "print(score)"
      ],
      "execution_count": 0,
      "outputs": []
    },
    {
      "cell_type": "code",
      "metadata": {
        "id": "hwLSXt7nyn_0",
        "colab_type": "code",
        "colab": {}
      },
      "source": [
        "#Predict the model with the test data\n",
        "y_pred = model.predict(X_test)"
      ],
      "execution_count": 0,
      "outputs": []
    },
    {
      "cell_type": "code",
      "metadata": {
        "id": "WWKKoOKwyppN",
        "colab_type": "code",
        "colab": {}
      },
      "source": [
        "print(y_pred[:9]) #Print the prediction results for 0 to 10 images in y_pred dataframe\n",
        "print(y_test[:9])# Print the output from 0 to 10 images"
      ],
      "execution_count": 0,
      "outputs": []
    },
    {
      "cell_type": "markdown",
      "metadata": {
        "id": "lOisJdiEYxSR",
        "colab_type": "text"
      },
      "source": [
        "### What according to me wrong in this network?\n",
        "\n",
        "model.add(Convolution2D(2048, 3, 3, activation='relu')) # Ip : 5*5*1024   Rec field : 22*22  ; O/P : 3*3*2018\n",
        "model.add(Convolution2D(10, 3, 3, activation='relu')) # Ip : 3*3*2048   Rec field : 24*24  ; O/P : 1*1*10\n",
        "\n",
        "1. When you observe the above two steps from the model, we are converting the 2048 channels to 10 channels with 3*3 kernel due to which we may loose most of the data. We can achieve this by using padding or convolve using 1*1 kernel but this cannot be used according to EVA as of now\n",
        "\n",
        "2. Also have observed channels are being added up for each layer due to which parameters are getting increased instead we can use 32 channels overall and convolute to 10 channels by which we will not loose much information"
      ]
    },
    {
      "cell_type": "code",
      "metadata": {
        "id": "tAI9Qxb0aYjR",
        "colab_type": "code",
        "colab": {}
      },
      "source": [
        ""
      ],
      "execution_count": 0,
      "outputs": []
    }
  ]
}