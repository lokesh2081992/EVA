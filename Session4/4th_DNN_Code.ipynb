{
  "nbformat": 4,
  "nbformat_minor": 0,
  "metadata": {
    "colab": {
      "name": "4th DNN Code.ipynb",
      "version": "0.3.2",
      "provenance": [],
      "collapsed_sections": []
    },
    "kernelspec": {
      "name": "python3",
      "display_name": "Python 3"
    },
    "accelerator": "GPU"
  },
  "cells": [
    {
      "cell_type": "markdown",
      "metadata": {
        "id": "aNyZv-Ec52ot",
        "colab_type": "text"
      },
      "source": [
        "## Thoughts on the Network\n",
        "\n",
        "* Created the  architecture in such a way that all the layers with same channels i.e. 10 for two layers and next with 16 channels and each layer BatchNormalization and dropout and we are convoluting till we reach 7 channels since after that it will waste to convolute as all the digits would be captured by that\n",
        "* In this architecture the parameters got reduced and since we are using dropout we will not be facing overfitting problem\n",
        "*I have introduced the learning rate in this and batch_size has been increased to 256 \n",
        "*Accuracy has been improved a way better than the other 3 DNNs\n",
        "\n"
      ]
    },
    {
      "cell_type": "code",
      "metadata": {
        "id": "3m3w1Cw49Zkt",
        "colab_type": "code",
        "outputId": "532b1b63-1517-48f9-a478-f904a10860bf",
        "colab": {
          "base_uri": "https://localhost:8080/",
          "height": 34
        }
      },
      "source": [
        "# https://keras.io/\n",
        "!pip install -q keras\n",
        "import keras"
      ],
      "execution_count": 0,
      "outputs": [
        {
          "output_type": "stream",
          "text": [
            "Using TensorFlow backend.\n"
          ],
          "name": "stderr"
        }
      ]
    },
    {
      "cell_type": "markdown",
      "metadata": {
        "id": "aqTQDa4r1gEf",
        "colab_type": "text"
      },
      "source": [
        ""
      ]
    },
    {
      "cell_type": "code",
      "metadata": {
        "id": "Eso6UHE080D4",
        "colab_type": "code",
        "colab": {}
      },
      "source": [
        "# Import the required libraries\n",
        "import numpy as np\n",
        "\n",
        "from keras.models import Sequential\n",
        "from keras.layers import Dense, Dropout, Activation, Flatten, Add\n",
        "from keras.layers import Convolution2D, MaxPooling2D\n",
        "from keras.utils import np_utils\n",
        "\n",
        "from keras.datasets import mnist"
      ],
      "execution_count": 0,
      "outputs": []
    },
    {
      "cell_type": "markdown",
      "metadata": {
        "id": "zByEi95J86RD",
        "colab_type": "text"
      },
      "source": [
        "### Load pre-shuffled MNIST data into train and test sets"
      ]
    },
    {
      "cell_type": "code",
      "metadata": {
        "id": "7eRM0QWN83PV",
        "colab_type": "code",
        "colab": {}
      },
      "source": [
        "#Load the Mnist data and split the data into Train and Test dataframes\n",
        "(X_train, y_train), (X_test, y_test) = mnist.load_data()"
      ],
      "execution_count": 0,
      "outputs": []
    },
    {
      "cell_type": "code",
      "metadata": {
        "id": "4a4Be72j8-ZC",
        "colab_type": "code",
        "outputId": "f6bd7747-c8d3-4978-f6c1-9770212b805a",
        "colab": {
          "base_uri": "https://localhost:8080/",
          "height": 303
        }
      },
      "source": [
        "# Print the shape of the mnist train data and plot first image in the mnist train data\n",
        "print (X_train.shape)\n",
        "from matplotlib import pyplot as plt\n",
        "%matplotlib inline\n",
        "plt.imshow(X_train[0])"
      ],
      "execution_count": 0,
      "outputs": [
        {
          "output_type": "stream",
          "text": [
            "(60000, 28, 28)\n"
          ],
          "name": "stdout"
        },
        {
          "output_type": "execute_result",
          "data": {
            "text/plain": [
              "<matplotlib.image.AxesImage at 0x7f532112bda0>"
            ]
          },
          "metadata": {
            "tags": []
          },
          "execution_count": 4
        },
        {
          "output_type": "display_data",
          "data": {
            "image/png": "[encoded data removed]",
            "text/plain": [
              "<Figure size 432x288 with 1 Axes>"
            ]
          },
          "metadata": {
            "tags": []
          }
        }
      ]
    },
    {
      "cell_type": "code",
      "metadata": {
        "id": "dkmprriw9AnZ",
        "colab_type": "code",
        "colab": {}
      },
      "source": [
        "# Reshape the train and test dataframes\n",
        "X_train = X_train.reshape(X_train.shape[0], 28, 28,1)\n",
        "X_test = X_test.reshape(X_test.shape[0], 28, 28,1)"
      ],
      "execution_count": 0,
      "outputs": []
    },
    {
      "cell_type": "code",
      "metadata": {
        "id": "X2m4YS4E9CRh",
        "colab_type": "code",
        "colab": {}
      },
      "source": [
        "X_train = X_train.astype('float32')\n",
        "X_test = X_test.astype('float32')\n",
        "X_train /= 255\n",
        "X_test /= 255"
      ],
      "execution_count": 0,
      "outputs": []
    },
    {
      "cell_type": "code",
      "metadata": {
        "id": "0Mn0vAYD9DvB",
        "colab_type": "code",
        "outputId": "d2393c6a-7f69-4d33-da2e-0e396ce8e8a1",
        "colab": {
          "base_uri": "https://localhost:8080/",
          "height": 34
        }
      },
      "source": [
        "#print the 0 to 10 array values present in the y_train\n",
        "y_train[:10]"
      ],
      "execution_count": 0,
      "outputs": [
        {
          "output_type": "execute_result",
          "data": {
            "text/plain": [
              "array([5, 0, 4, 1, 9, 2, 1, 3, 1, 4], dtype=uint8)"
            ]
          },
          "metadata": {
            "tags": []
          },
          "execution_count": 7
        }
      ]
    },
    {
      "cell_type": "code",
      "metadata": {
        "id": "ZG8JiXR39FHC",
        "colab_type": "code",
        "colab": {}
      },
      "source": [
        "# Convert 1-dimensional class arrays to 10-dimensional class matrices\n",
        "Y_train = np_utils.to_categorical(y_train, 10)\n",
        "Y_test = np_utils.to_categorical(y_test, 10)"
      ],
      "execution_count": 0,
      "outputs": []
    },
    {
      "cell_type": "code",
      "metadata": {
        "id": "fYlFRvKS9HMB",
        "colab_type": "code",
        "outputId": "2640c150-61ed-48d9-fb82-22797630d9f3",
        "colab": {
          "base_uri": "https://localhost:8080/",
          "height": 187
        }
      },
      "source": [
        "Y_train[:10]\n"
      ],
      "execution_count": 0,
      "outputs": [
        {
          "output_type": "execute_result",
          "data": {
            "text/plain": [
              "array([[0., 0., 0., 0., 0., 1., 0., 0., 0., 0.],\n",
              "       [1., 0., 0., 0., 0., 0., 0., 0., 0., 0.],\n",
              "       [0., 0., 0., 0., 1., 0., 0., 0., 0., 0.],\n",
              "       [0., 1., 0., 0., 0., 0., 0., 0., 0., 0.],\n",
              "       [0., 0., 0., 0., 0., 0., 0., 0., 0., 1.],\n",
              "       [0., 0., 1., 0., 0., 0., 0., 0., 0., 0.],\n",
              "       [0., 1., 0., 0., 0., 0., 0., 0., 0., 0.],\n",
              "       [0., 0., 0., 1., 0., 0., 0., 0., 0., 0.],\n",
              "       [0., 1., 0., 0., 0., 0., 0., 0., 0., 0.],\n",
              "       [0., 0., 0., 0., 1., 0., 0., 0., 0., 0.]], dtype=float32)"
            ]
          },
          "metadata": {
            "tags": []
          },
          "execution_count": 9
        }
      ]
    },
    {
      "cell_type": "code",
      "metadata": {
        "id": "osKqT73Q9JJB",
        "colab_type": "code",
        "outputId": "17fb295b-ef4f-4edc-f595-53f341e7903b",
        "colab": {
          "base_uri": "https://localhost:8080/",
          "height": 207
        }
      },
      "source": [
        "#building the architecture\n",
        "from keras.layers import Activation\n",
        "from keras.layers import BatchNormalization,Dropout\n",
        "model = Sequential()\n",
        "\n",
        "model.add(Convolution2D(10, 3, 3, activation='relu', input_shape=(28,28,1))) \n",
        "#model.add(Convolution2D(10, 1, 1, activation='relu'))\n",
        "model.add(BatchNormalization())\n",
        "model.add(Dropout(0.3))\n",
        "\n",
        "model.add(Convolution2D(10, 3, 3, activation= 'relu'))\n",
        "#model.add(Convolution2D(10, 1, 1, activation= 'relu'))\n",
        "model.add(BatchNormalization())\n",
        "model.add(Dropout(0.3))\n",
        "\n",
        "model.add(Convolution2D(16, 3, 3, activation= 'relu'))\n",
        "#model.add(Convolution2D(10, 1, 1, activation='relu'))\n",
        "model.add(BatchNormalization())\n",
        "model.add(Dropout(0.3))\n",
        "\n",
        "model.add(Convolution2D(10, 1, 1, activation='relu'))\n",
        "model.add(MaxPooling2D(pool_size=(2,2)))\n",
        "model.add(BatchNormalization())\n",
        "model.add(Dropout(0.2))\n",
        "\n",
        "model.add(Convolution2D(10, 3, 3, activation= 'relu'))\n",
        "#model.add(Convolution2D(10, 1, 1, activation='relu'))\n",
        "model.add(BatchNormalization())\n",
        "model.add(Dropout(0.3))\n",
        "\n",
        "model.add(Convolution2D(16, 3, 3, activation= 'relu'))\n",
        "#model.add(Convolution2D(10, 1, 1, activation='relu'))\n",
        "model.add(BatchNormalization())\n",
        "model.add(Dropout(0.3))\n",
        "\n",
        "model.add(Convolution2D(10, 7, 7))\n",
        "\n",
        "#model.add(MaxPooling2D(pool_size=(2,2)))\n",
        "model.add(Flatten())\n",
        "model.add(Activation('softmax'))"
      ],
      "execution_count": 0,
      "outputs": [
        {
          "output_type": "stream",
          "text": [
            "/usr/local/lib/python3.6/dist-packages/ipykernel_launcher.py:5: UserWarning: Update your `Conv2D` call to the Keras 2 API: `Conv2D(10, (3, 3), activation=\"relu\", input_shape=(28, 28, 1...)`\n",
            "  \"\"\"\n",
            "/usr/local/lib/python3.6/dist-packages/ipykernel_launcher.py:10: UserWarning: Update your `Conv2D` call to the Keras 2 API: `Conv2D(10, (3, 3), activation=\"relu\")`\n",
            "  # Remove the CWD from sys.path while we load stuff.\n",
            "/usr/local/lib/python3.6/dist-packages/ipykernel_launcher.py:15: UserWarning: Update your `Conv2D` call to the Keras 2 API: `Conv2D(16, (3, 3), activation=\"relu\")`\n",
            "  from ipykernel import kernelapp as app\n",
            "/usr/local/lib/python3.6/dist-packages/ipykernel_launcher.py:20: UserWarning: Update your `Conv2D` call to the Keras 2 API: `Conv2D(10, (1, 1), activation=\"relu\")`\n",
            "/usr/local/lib/python3.6/dist-packages/ipykernel_launcher.py:25: UserWarning: Update your `Conv2D` call to the Keras 2 API: `Conv2D(10, (3, 3), activation=\"relu\")`\n",
            "/usr/local/lib/python3.6/dist-packages/ipykernel_launcher.py:30: UserWarning: Update your `Conv2D` call to the Keras 2 API: `Conv2D(16, (3, 3), activation=\"relu\")`\n",
            "/usr/local/lib/python3.6/dist-packages/ipykernel_launcher.py:35: UserWarning: Update your `Conv2D` call to the Keras 2 API: `Conv2D(10, (7, 7))`\n"
          ],
          "name": "stderr"
        }
      ]
    },
    {
      "cell_type": "code",
      "metadata": {
        "id": "TzdAYg1k9K7Z",
        "colab_type": "code",
        "outputId": "9a0761e4-9581-4c9e-93ed-b84ee052927c",
        "colab": {
          "base_uri": "https://localhost:8080/",
          "height": 884
        }
      },
      "source": [
        "#Print the summary of the model\n",
        "model.summary()"
      ],
      "execution_count": 0,
      "outputs": [
        {
          "output_type": "stream",
          "text": [
            "_________________________________________________________________\n",
            "Layer (type)                 Output Shape              Param #   \n",
            "=================================================================\n",
            "conv2d_62 (Conv2D)           (None, 26, 26, 10)        100       \n",
            "_________________________________________________________________\n",
            "batch_normalization_33 (Batc (None, 26, 26, 10)        40        \n",
            "_________________________________________________________________\n",
            "dropout_36 (Dropout)         (None, 26, 26, 10)        0         \n",
            "_________________________________________________________________\n",
            "conv2d_63 (Conv2D)           (None, 24, 24, 10)        910       \n",
            "_________________________________________________________________\n",
            "batch_normalization_34 (Batc (None, 24, 24, 10)        40        \n",
            "_________________________________________________________________\n",
            "dropout_37 (Dropout)         (None, 24, 24, 10)        0         \n",
            "_________________________________________________________________\n",
            "conv2d_64 (Conv2D)           (None, 22, 22, 16)        1456      \n",
            "_________________________________________________________________\n",
            "batch_normalization_35 (Batc (None, 22, 22, 16)        64        \n",
            "_________________________________________________________________\n",
            "dropout_38 (Dropout)         (None, 22, 22, 16)        0         \n",
            "_________________________________________________________________\n",
            "conv2d_65 (Conv2D)           (None, 22, 22, 10)        170       \n",
            "_________________________________________________________________\n",
            "max_pooling2d_6 (MaxPooling2 (None, 11, 11, 10)        0         \n",
            "_________________________________________________________________\n",
            "batch_normalization_36 (Batc (None, 11, 11, 10)        40        \n",
            "_________________________________________________________________\n",
            "dropout_39 (Dropout)         (None, 11, 11, 10)        0         \n",
            "_________________________________________________________________\n",
            "conv2d_66 (Conv2D)           (None, 9, 9, 10)          910       \n",
            "_________________________________________________________________\n",
            "batch_normalization_37 (Batc (None, 9, 9, 10)          40        \n",
            "_________________________________________________________________\n",
            "dropout_40 (Dropout)         (None, 9, 9, 10)          0         \n",
            "_________________________________________________________________\n",
            "conv2d_67 (Conv2D)           (None, 7, 7, 16)          1456      \n",
            "_________________________________________________________________\n",
            "batch_normalization_38 (Batc (None, 7, 7, 16)          64        \n",
            "_________________________________________________________________\n",
            "dropout_41 (Dropout)         (None, 7, 7, 16)          0         \n",
            "_________________________________________________________________\n",
            "conv2d_68 (Conv2D)           (None, 1, 1, 10)          7850      \n",
            "_________________________________________________________________\n",
            "flatten_6 (Flatten)          (None, 10)                0         \n",
            "_________________________________________________________________\n",
            "activation_6 (Activation)    (None, 10)                0         \n",
            "=================================================================\n",
            "Total params: 13,140\n",
            "Trainable params: 12,996\n",
            "Non-trainable params: 144\n",
            "_________________________________________________________________\n"
          ],
          "name": "stdout"
        }
      ]
    },
    {
      "cell_type": "code",
      "metadata": {
        "id": "Zp6SuGrL9M3h",
        "colab_type": "code",
        "colab": {}
      },
      "source": [
        "from keras.optimizers import Adam\n",
        "from keras.callbacks import LearningRateScheduler\n",
        "def scheduler(epoch, lr):\n",
        "  return round(0.003 * 1/(1 + 0.319 * epoch), 10)\n",
        "\n",
        "model.compile(loss='categorical_crossentropy', optimizer=Adam(lr=0.003), metrics=['accuracy'])"
      ],
      "execution_count": 0,
      "outputs": []
    },
    {
      "cell_type": "code",
      "metadata": {
        "id": "4xWoKhPY9Of5",
        "colab_type": "code",
        "outputId": "d259789b-b57e-4a7a-b334-3476b3ff544b",
        "colab": {
          "base_uri": "https://localhost:8080/",
          "height": 785
        }
      },
      "source": [
        "#Fit the model with batch size as 32 and run epochs 10 and also check the validation accuracy in this step\n",
        "model.fit(X_train, Y_train, batch_size=256, nb_epoch=20, verbose=1,validation_data=(X_test,Y_test))"
      ],
      "execution_count": 0,
      "outputs": [
        {
          "output_type": "stream",
          "text": [
            "Train on 60000 samples, validate on 10000 samples\n",
            "Epoch 1/20\n",
            "\r  256/60000 [..............................] - ETA: 46s - loss: 0.0368 - acc: 0.9844"
          ],
          "name": "stdout"
        },
        {
          "output_type": "stream",
          "text": [
            "/usr/local/lib/python3.6/dist-packages/ipykernel_launcher.py:1: UserWarning: The `nb_epoch` argument in `fit` has been renamed `epochs`.\n",
            "  \"\"\"Entry point for launching an IPython kernel.\n"
          ],
          "name": "stderr"
        },
        {
          "output_type": "stream",
          "text": [
            "60000/60000 [==============================] - 4s 69us/step - loss: 0.0365 - acc: 0.9884 - val_loss: 0.0265 - val_acc: 0.9915\n",
            "Epoch 2/20\n",
            "60000/60000 [==============================] - 4s 67us/step - loss: 0.0372 - acc: 0.9879 - val_loss: 0.0264 - val_acc: 0.9914\n",
            "Epoch 3/20\n",
            "60000/60000 [==============================] - 4s 70us/step - loss: 0.0356 - acc: 0.9878 - val_loss: 0.0268 - val_acc: 0.9915\n",
            "Epoch 4/20\n",
            "60000/60000 [==============================] - 4s 70us/step - loss: 0.0352 - acc: 0.9886 - val_loss: 0.0285 - val_acc: 0.9902\n",
            "Epoch 5/20\n",
            "60000/60000 [==============================] - 4s 66us/step - loss: 0.0351 - acc: 0.9885 - val_loss: 0.0328 - val_acc: 0.9895\n",
            "Epoch 6/20\n",
            "60000/60000 [==============================] - 4s 66us/step - loss: 0.0360 - acc: 0.9885 - val_loss: 0.0345 - val_acc: 0.9888\n",
            "Epoch 7/20\n",
            "60000/60000 [==============================] - 4s 66us/step - loss: 0.0341 - acc: 0.9884 - val_loss: 0.0310 - val_acc: 0.9905\n",
            "Epoch 8/20\n",
            "60000/60000 [==============================] - 4s 66us/step - loss: 0.0350 - acc: 0.9881 - val_loss: 0.0284 - val_acc: 0.9911\n",
            "Epoch 9/20\n",
            "60000/60000 [==============================] - 4s 66us/step - loss: 0.0345 - acc: 0.9888 - val_loss: 0.0246 - val_acc: 0.9920\n",
            "Epoch 10/20\n",
            "60000/60000 [==============================] - 4s 66us/step - loss: 0.0335 - acc: 0.9891 - val_loss: 0.0265 - val_acc: 0.9915\n",
            "Epoch 11/20\n",
            "60000/60000 [==============================] - 4s 66us/step - loss: 0.0342 - acc: 0.9891 - val_loss: 0.0337 - val_acc: 0.9894\n",
            "Epoch 12/20\n",
            "60000/60000 [==============================] - 4s 66us/step - loss: 0.0355 - acc: 0.9882 - val_loss: 0.0312 - val_acc: 0.9898\n",
            "Epoch 13/20\n",
            "60000/60000 [==============================] - 4s 66us/step - loss: 0.0339 - acc: 0.9889 - val_loss: 0.0315 - val_acc: 0.9898\n",
            "Epoch 14/20\n",
            "60000/60000 [==============================] - 4s 66us/step - loss: 0.0364 - acc: 0.9880 - val_loss: 0.0272 - val_acc: 0.9914\n",
            "Epoch 15/20\n",
            "60000/60000 [==============================] - 4s 66us/step - loss: 0.0343 - acc: 0.9883 - val_loss: 0.0255 - val_acc: 0.9917\n",
            "Epoch 16/20\n",
            "60000/60000 [==============================] - 4s 66us/step - loss: 0.0345 - acc: 0.9886 - val_loss: 0.0237 - val_acc: 0.9924\n",
            "Epoch 17/20\n",
            "60000/60000 [==============================] - 4s 66us/step - loss: 0.0338 - acc: 0.9888 - val_loss: 0.0291 - val_acc: 0.9906\n",
            "Epoch 18/20\n",
            "60000/60000 [==============================] - 4s 66us/step - loss: 0.0340 - acc: 0.9888 - val_loss: 0.0340 - val_acc: 0.9899\n",
            "Epoch 19/20\n",
            "60000/60000 [==============================] - 4s 66us/step - loss: 0.0343 - acc: 0.9893 - val_loss: 0.0325 - val_acc: 0.9895\n",
            "Epoch 20/20\n",
            "60000/60000 [==============================] - 4s 66us/step - loss: 0.0339 - acc: 0.9886 - val_loss: 0.0258 - val_acc: 0.9914\n"
          ],
          "name": "stdout"
        },
        {
          "output_type": "execute_result",
          "data": {
            "text/plain": [
              "<keras.callbacks.History at 0x7f52d3921390>"
            ]
          },
          "metadata": {
            "tags": []
          },
          "execution_count": 38
        }
      ]
    },
    {
      "cell_type": "code",
      "metadata": {
        "id": "AtsH-lLk-eLb",
        "colab_type": "code",
        "colab": {}
      },
      "source": [
        "#Evaluate the test dataset\n",
        "score = model.evaluate(X_test, Y_test, verbose=0)"
      ],
      "execution_count": 0,
      "outputs": []
    },
    {
      "cell_type": "code",
      "metadata": {
        "id": "mkX8JMv79q9r",
        "colab_type": "code",
        "outputId": "1100d93c-63a8-4ac4-e54d-cbf2b482e7d2",
        "colab": {
          "base_uri": "https://localhost:8080/",
          "height": 34
        }
      },
      "source": [
        "#print the test scores\n",
        "print(score)"
      ],
      "execution_count": 0,
      "outputs": [
        {
          "output_type": "stream",
          "text": [
            "[0.04048466449171537, 0.9881]\n"
          ],
          "name": "stdout"
        }
      ]
    },
    {
      "cell_type": "code",
      "metadata": {
        "id": "OCWoJkwE9suh",
        "colab_type": "code",
        "colab": {}
      },
      "source": [
        "#predict the test dataset\n",
        "y_pred = model.predict(X_test)\n"
      ],
      "execution_count": 0,
      "outputs": []
    },
    {
      "cell_type": "code",
      "metadata": {
        "id": "Ym7iCFBm9uBs",
        "colab_type": "code",
        "outputId": "7c791aa2-7059-4a98-fafa-db74101af802",
        "colab": {
          "base_uri": "https://localhost:8080/",
          "height": 340
        }
      },
      "source": [
        "print(y_pred[:9])\n",
        "print(y_test[:9])"
      ],
      "execution_count": 0,
      "outputs": [
        {
          "output_type": "stream",
          "text": [
            "[[1.2100675e-10 6.3314696e-09 7.6741138e-08 3.2360597e-07 1.6918297e-10\n",
            "  4.5259133e-10 3.5896837e-12 9.9999785e-01 5.1954324e-10 1.7353067e-06]\n",
            " [7.7619756e-05 2.1433672e-04 9.9970573e-01 6.9557103e-08 2.9346795e-08\n",
            "  5.6877197e-11 1.6964066e-06 2.8463333e-07 2.5143814e-08 6.2051967e-08]\n",
            " [9.3087905e-08 9.9998724e-01 9.4463837e-07 1.9336037e-09 7.2234830e-06\n",
            "  1.7934841e-08 7.6022855e-07 2.2089473e-06 9.7866950e-07 4.6501009e-07]\n",
            " [9.9818748e-01 3.1751380e-08 9.6063275e-08 1.2128525e-07 1.3256675e-06\n",
            "  6.2184508e-06 1.7290172e-03 1.8909849e-06 1.5913139e-06 7.2159142e-05]\n",
            " [5.2080418e-10 1.0447092e-08 5.5608967e-10 5.4491255e-11 9.9992704e-01\n",
            "  4.2089457e-10 1.3931893e-08 4.1674861e-10 2.0792450e-09 7.2892617e-05]\n",
            " [2.0461749e-07 9.9998951e-01 7.1405242e-07 4.4387943e-10 5.9953491e-06\n",
            "  5.2684674e-09 7.0388774e-07 1.3179205e-06 1.0338599e-06 4.6543394e-07]\n",
            " [1.8007904e-15 1.3977919e-07 2.6674346e-10 2.3294309e-12 9.9999940e-01\n",
            "  1.5710529e-10 4.4096198e-12 9.8867865e-09 4.4100492e-08 4.8606518e-07]\n",
            " [5.5646683e-07 2.8179220e-06 6.1547053e-07 5.5220721e-06 7.8235555e-04\n",
            "  2.7863876e-05 2.7407212e-08 1.4397969e-05 7.8869680e-06 9.9915802e-01]\n",
            " [6.7134379e-06 8.1219691e-11 9.1771170e-08 1.1147336e-09 4.2945640e-08\n",
            "  9.9891770e-01 9.7473274e-04 7.3495570e-09 4.4201111e-05 5.6548372e-05]]\n",
            "[7 2 1 0 4 1 4 9 5]\n"
          ],
          "name": "stdout"
        }
      ]
    },
    {
      "cell_type": "code",
      "metadata": {
        "id": "9tvptcn8dxvp",
        "colab_type": "code",
        "colab": {}
      },
      "source": [
        ""
      ],
      "execution_count": 0,
      "outputs": []
    }
  ]
}