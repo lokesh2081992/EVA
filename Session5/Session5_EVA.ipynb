{
  "nbformat": 4,
  "nbformat_minor": 0,
  "metadata": {
    "colab": {
      "name": "Session5_EVA",
      "version": "0.3.2",
      "provenance": [],
      "collapsed_sections": []
    },
    "kernelspec": {
      "name": "python3",
      "display_name": "Python 3"
    }
  },
  "cells": [
    {
      "cell_type": "code",
      "metadata": {
        "id": "0PuUGg2Brw-C",
        "colab_type": "code",
        "outputId": "34dfc8f7-35e6-4277-a0b0-7d8ed968375d",
        "colab": {
          "base_uri": "https://localhost:8080/",
          "height": 34
        }
      },
      "source": [
        "import numpy as np\n",
        "\n",
        "from keras.models import Sequential\n",
        "from keras.layers import Dense, Dropout, Activation, Flatten, Add, BatchNormalization\n",
        "from keras.layers import Convolution2D, MaxPooling2D\n",
        "from keras.preprocessing.image import ImageDataGenerator\n",
        "from keras.utils import np_utils\n",
        "import keras\n",
        "from keras.regularizers import l2\n",
        "from keras import regularizers\n",
        "from keras.datasets import mnist"
      ],
      "execution_count": 0,
      "outputs": [
        {
          "output_type": "stream",
          "text": [
            "Using TensorFlow backend.\n"
          ],
          "name": "stderr"
        }
      ]
    },
    {
      "cell_type": "code",
      "metadata": {
        "id": "MMI0yeD6r1to",
        "colab_type": "code",
        "outputId": "ad68ddc4-0494-425b-c69e-36be526eb9ea",
        "colab": {
          "base_uri": "https://localhost:8080/",
          "height": 51
        }
      },
      "source": [
        "(X_train, y_train), (X_test, y_test) = mnist.load_data()"
      ],
      "execution_count": 0,
      "outputs": [
        {
          "output_type": "stream",
          "text": [
            "Downloading data from https://s3.amazonaws.com/img-datasets/mnist.npz\n",
            "11493376/11490434 [==============================] - 1s 0us/step\n"
          ],
          "name": "stdout"
        }
      ]
    },
    {
      "cell_type": "code",
      "metadata": {
        "id": "b8SqIFOir3jB",
        "colab_type": "code",
        "outputId": "c74c8fb1-ca67-441b-d3b6-fa3252595473",
        "colab": {
          "base_uri": "https://localhost:8080/",
          "height": 303
        }
      },
      "source": [
        "print (X_train.shape)\n",
        "from matplotlib import pyplot as plt\n",
        "%matplotlib inline\n",
        "plt.imshow(X_train[1])"
      ],
      "execution_count": 0,
      "outputs": [
        {
          "output_type": "stream",
          "text": [
            "(60000, 28, 28)\n"
          ],
          "name": "stdout"
        },
        {
          "output_type": "execute_result",
          "data": {
            "text/plain": [
              "<matplotlib.image.AxesImage at 0x7fdd6c16c7b8>"
            ]
          },
          "metadata": {
            "tags": []
          },
          "execution_count": 3
        },
        {
          "output_type": "display_data",
          "data": {
            "image/png": "[encoded data removed]",
            "text/plain": [
              "<Figure size 432x288 with 1 Axes>"
            ]
          },
          "metadata": {
            "tags": []
          }
        }
      ]
    },
    {
      "cell_type": "code",
      "metadata": {
        "id": "OF7TyJ2yr45x",
        "colab_type": "code",
        "colab": {}
      },
      "source": [
        "X_train = X_train.reshape(X_train.shape[0], 28, 28,1)\n",
        "X_test = X_test.reshape(X_test.shape[0], 28, 28,1)"
      ],
      "execution_count": 0,
      "outputs": []
    },
    {
      "cell_type": "code",
      "metadata": {
        "id": "elIgd-IPr6Xj",
        "colab_type": "code",
        "colab": {}
      },
      "source": [
        "X_train = X_train.astype('float32')\n",
        "X_test = X_test.astype('float32')\n",
        "X_train /= 255\n",
        "X_test /= 255"
      ],
      "execution_count": 0,
      "outputs": []
    },
    {
      "cell_type": "code",
      "metadata": {
        "id": "mybV0uXrr8Fg",
        "colab_type": "code",
        "outputId": "dad6a56d-9b4f-4c3f-b581-78173789cd20",
        "colab": {
          "base_uri": "https://localhost:8080/",
          "height": 85
        }
      },
      "source": [
        "print(X_train.shape[0])\n",
        "print(X_train.shape[1])\n",
        "print(X_train.shape[2])\n",
        "print(X_train.shape[3])"
      ],
      "execution_count": 0,
      "outputs": [
        {
          "output_type": "stream",
          "text": [
            "60000\n",
            "28\n",
            "28\n",
            "1\n"
          ],
          "name": "stdout"
        }
      ]
    },
    {
      "cell_type": "code",
      "metadata": {
        "id": "rqvaEvGRr9gn",
        "colab_type": "code",
        "outputId": "13dfd41d-8fa2-4be6-f6f9-c83356adbc71",
        "colab": {
          "base_uri": "https://localhost:8080/",
          "height": 493
        }
      },
      "source": [
        "X_train[0][3]"
      ],
      "execution_count": 0,
      "outputs": [
        {
          "output_type": "execute_result",
          "data": {
            "text/plain": [
              "array([[0.],\n",
              "       [0.],\n",
              "       [0.],\n",
              "       [0.],\n",
              "       [0.],\n",
              "       [0.],\n",
              "       [0.],\n",
              "       [0.],\n",
              "       [0.],\n",
              "       [0.],\n",
              "       [0.],\n",
              "       [0.],\n",
              "       [0.],\n",
              "       [0.],\n",
              "       [0.],\n",
              "       [0.],\n",
              "       [0.],\n",
              "       [0.],\n",
              "       [0.],\n",
              "       [0.],\n",
              "       [0.],\n",
              "       [0.],\n",
              "       [0.],\n",
              "       [0.],\n",
              "       [0.],\n",
              "       [0.],\n",
              "       [0.],\n",
              "       [0.]], dtype=float32)"
            ]
          },
          "metadata": {
            "tags": []
          },
          "execution_count": 7
        }
      ]
    },
    {
      "cell_type": "code",
      "metadata": {
        "id": "QcL6Q8jTsAGz",
        "colab_type": "code",
        "colab": {}
      },
      "source": [
        "y_train[:10]\n",
        "Y_train = np_utils.to_categorical(y_train, 10)\n",
        "Y_test = np_utils.to_categorical(y_test, 10)"
      ],
      "execution_count": 0,
      "outputs": []
    },
    {
      "cell_type": "code",
      "metadata": {
        "id": "QckAkizosBpk",
        "colab_type": "code",
        "outputId": "3a35aaac-9daf-4c12-96ff-cd3685cb5166",
        "colab": {
          "base_uri": "https://localhost:8080/",
          "height": 34
        }
      },
      "source": [
        "# report pixel means and standard deviations\n",
        "print('Statistics train=%.3f (%.3f), test=%.3f (%.3f)' % (X_train.mean(),X_train.std(),X_test.mean(),X_test.std()))"
      ],
      "execution_count": 0,
      "outputs": [
        {
          "output_type": "stream",
          "text": [
            "Statistics train=0.131 (0.308), test=0.133 (0.310)\n"
          ],
          "name": "stdout"
        }
      ]
    },
    {
      "cell_type": "code",
      "metadata": {
        "id": "Z4rG_BqtsDba",
        "colab_type": "code",
        "outputId": "848aa34e-7547-4623-b64a-3b421caab6bb",
        "colab": {
          "base_uri": "https://localhost:8080/",
          "height": 51
        }
      },
      "source": [
        "# create generator that centers pixel values\n",
        "datagen = ImageDataGenerator(featurewise_center=True, featurewise_std_normalization=True)\n",
        "# calculate the mean on the training dataset\n",
        "datagen.fit(X_train)\n",
        "print('Data Generator mean=%.3f, std=%.3f' % (datagen.mean,datagen.std))\n",
        "# calculate the mean on the test dataset\n",
        "datagen.fit(X_test)\n",
        "print('Data Generator mean=%.3f, std=%.3f' % (datagen.mean,datagen.std))"
      ],
      "execution_count": 0,
      "outputs": [
        {
          "output_type": "stream",
          "text": [
            "Data Generator mean=0.131, std=0.308\n",
            "Data Generator mean=0.133, std=0.310\n"
          ],
          "name": "stdout"
        }
      ]
    },
    {
      "cell_type": "code",
      "metadata": {
        "id": "6U9tUHfLsE3D",
        "colab_type": "code",
        "outputId": "63dda63c-5d27-44ac-88e9-8a400ac73efe",
        "colab": {
          "base_uri": "https://localhost:8080/",
          "height": 34
        }
      },
      "source": [
        "# demonstrate effect on a single batch of samples\n",
        "train_generator = datagen.flow(X_train,Y_train,batch_size=128,shuffle=False)\n",
        "batchX, batchy = train_generator.next()\n",
        "print(batchX.shape,batchX.mean(),batchX.std())"
      ],
      "execution_count": 0,
      "outputs": [
        {
          "output_type": "stream",
          "text": [
            "(128, 28, 28, 1) -0.016303241 0.9803502\n"
          ],
          "name": "stdout"
        }
      ]
    },
    {
      "cell_type": "code",
      "metadata": {
        "id": "T6LOGJ4SsGNN",
        "colab_type": "code",
        "outputId": "1fe421a4-6600-407d-ff42-466f994cd160",
        "colab": {
          "base_uri": "https://localhost:8080/",
          "height": 34
        }
      },
      "source": [
        "# demonstrate effect on entire training dataset\n",
        "test_generator = datagen.flow(X_test,Y_test,batch_size=128,shuffle=False)\n",
        "batchX, batchy = test_generator.next()\n",
        "print(batchX.shape,batchX.mean(),batchX.std())"
      ],
      "execution_count": 0,
      "outputs": [
        {
          "output_type": "stream",
          "text": [
            "(128, 28, 28, 1) -0.045750923 0.94554704\n"
          ],
          "name": "stdout"
        }
      ]
    },
    {
      "cell_type": "code",
      "metadata": {
        "id": "ao9bThkKsHms",
        "colab_type": "code",
        "outputId": "68b97eb8-c12f-4b51-a786-751ce8152cd5",
        "colab": {
          "base_uri": "https://localhost:8080/",
          "height": 187
        }
      },
      "source": [
        "Y_train[:10]"
      ],
      "execution_count": 0,
      "outputs": [
        {
          "output_type": "execute_result",
          "data": {
            "text/plain": [
              "array([[0., 0., 0., 0., 0., 1., 0., 0., 0., 0.],\n",
              "       [1., 0., 0., 0., 0., 0., 0., 0., 0., 0.],\n",
              "       [0., 0., 0., 0., 1., 0., 0., 0., 0., 0.],\n",
              "       [0., 1., 0., 0., 0., 0., 0., 0., 0., 0.],\n",
              "       [0., 0., 0., 0., 0., 0., 0., 0., 0., 1.],\n",
              "       [0., 0., 1., 0., 0., 0., 0., 0., 0., 0.],\n",
              "       [0., 1., 0., 0., 0., 0., 0., 0., 0., 0.],\n",
              "       [0., 0., 0., 1., 0., 0., 0., 0., 0., 0.],\n",
              "       [0., 1., 0., 0., 0., 0., 0., 0., 0., 0.],\n",
              "       [0., 0., 0., 0., 1., 0., 0., 0., 0., 0.]], dtype=float32)"
            ]
          },
          "metadata": {
            "tags": []
          },
          "execution_count": 13
        }
      ]
    },
    {
      "cell_type": "code",
      "metadata": {
        "id": "mN2J2eqGsJM5",
        "colab_type": "code",
        "outputId": "4768df50-4b73-49f1-d3fa-5183d13c6f98",
        "colab": {
          "base_uri": "https://localhost:8080/",
          "height": 1465
        }
      },
      "source": [
        "from keras.layers import Activation\n",
        "model = Sequential()\n",
        " \n",
        "model.add(Convolution2D(16, 3, 3, input_shape=(28,28,1))) #26\n",
        "model.add(BatchNormalization())\n",
        "model.add(Activation('relu'))\n",
        "model.add(Dropout(0.1))\n",
        "\n",
        "model.add(Convolution2D(32, 3, 3)) #24\n",
        "model.add(BatchNormalization())\n",
        "model.add(Activation('relu'))\n",
        "model.add(Dropout(0.1))\n",
        "\n",
        "model.add(Convolution2D(10, 1, 1)) #22\n",
        "model.add(Activation('relu'))\n",
        "\n",
        "model.add(MaxPooling2D(pool_size=(2, 2)))#11\n",
        "\n",
        "model.add(Convolution2D(16, 3, 3))#9\n",
        "model.add(BatchNormalization())\n",
        "model.add(Activation('relu'))\n",
        "model.add(Dropout(0.1))\n",
        "\n",
        "\n",
        "model.add(Convolution2D(16, 3, 3))#7\n",
        "model.add(BatchNormalization())\n",
        "model.add(Activation('relu'))\n",
        "model.add(Dropout(0.1))\n",
        "\n",
        "\n",
        "model.add(Convolution2D(16, 3, 3))#5\n",
        "model.add(BatchNormalization())\n",
        "model.add(Activation('relu'))\n",
        "model.add(Dropout(0.1))\n",
        "\n",
        "\n",
        "model.add(Convolution2D(16, 3, 3))#3\n",
        "model.add(BatchNormalization())\n",
        "model.add(Activation('relu'))\n",
        "model.add(Dropout(0.1))\n",
        "\n",
        "\n",
        "model.add(Convolution2D(10, 4, 4))\n",
        "model.add(Flatten())\n",
        "model.add(Activation('softmax'))\n",
        "\n",
        "\n",
        "model.summary()"
      ],
      "execution_count": 0,
      "outputs": [
        {
          "output_type": "stream",
          "text": [
            "WARNING:tensorflow:From /usr/local/lib/python3.6/dist-packages/tensorflow/python/framework/op_def_library.py:263: colocate_with (from tensorflow.python.framework.ops) is deprecated and will be removed in a future version.\n",
            "Instructions for updating:\n",
            "Colocations handled automatically by placer.\n"
          ],
          "name": "stdout"
        },
        {
          "output_type": "stream",
          "text": [
            "/usr/local/lib/python3.6/dist-packages/ipykernel_launcher.py:4: UserWarning: Update your `Conv2D` call to the Keras 2 API: `Conv2D(16, (3, 3), input_shape=(28, 28, 1...)`\n",
            "  after removing the cwd from sys.path.\n"
          ],
          "name": "stderr"
        },
        {
          "output_type": "stream",
          "text": [
            "WARNING:tensorflow:From /usr/local/lib/python3.6/dist-packages/keras/backend/tensorflow_backend.py:3445: calling dropout (from tensorflow.python.ops.nn_ops) with keep_prob is deprecated and will be removed in a future version.\n",
            "Instructions for updating:\n",
            "Please use `rate` instead of `keep_prob`. Rate should be set to `rate = 1 - keep_prob`.\n"
          ],
          "name": "stdout"
        },
        {
          "output_type": "stream",
          "text": [
            "/usr/local/lib/python3.6/dist-packages/ipykernel_launcher.py:9: UserWarning: Update your `Conv2D` call to the Keras 2 API: `Conv2D(32, (3, 3))`\n",
            "  if __name__ == '__main__':\n",
            "/usr/local/lib/python3.6/dist-packages/ipykernel_launcher.py:14: UserWarning: Update your `Conv2D` call to the Keras 2 API: `Conv2D(10, (1, 1))`\n",
            "  \n",
            "/usr/local/lib/python3.6/dist-packages/ipykernel_launcher.py:19: UserWarning: Update your `Conv2D` call to the Keras 2 API: `Conv2D(16, (3, 3))`\n",
            "/usr/local/lib/python3.6/dist-packages/ipykernel_launcher.py:25: UserWarning: Update your `Conv2D` call to the Keras 2 API: `Conv2D(16, (3, 3))`\n",
            "/usr/local/lib/python3.6/dist-packages/ipykernel_launcher.py:31: UserWarning: Update your `Conv2D` call to the Keras 2 API: `Conv2D(16, (3, 3))`\n"
          ],
          "name": "stderr"
        },
        {
          "output_type": "stream",
          "text": [
            "_________________________________________________________________\n",
            "Layer (type)                 Output Shape              Param #   \n",
            "=================================================================\n",
            "conv2d_1 (Conv2D)            (None, 26, 26, 16)        160       \n",
            "_________________________________________________________________\n",
            "batch_normalization_1 (Batch (None, 26, 26, 16)        64        \n",
            "_________________________________________________________________\n",
            "activation_1 (Activation)    (None, 26, 26, 16)        0         \n",
            "_________________________________________________________________\n",
            "dropout_1 (Dropout)          (None, 26, 26, 16)        0         \n",
            "_________________________________________________________________\n",
            "conv2d_2 (Conv2D)            (None, 24, 24, 32)        4640      \n",
            "_________________________________________________________________\n",
            "batch_normalization_2 (Batch (None, 24, 24, 32)        128       \n",
            "_________________________________________________________________\n",
            "activation_2 (Activation)    (None, 24, 24, 32)        0         \n",
            "_________________________________________________________________\n",
            "dropout_2 (Dropout)          (None, 24, 24, 32)        0         \n",
            "_________________________________________________________________\n",
            "conv2d_3 (Conv2D)            (None, 24, 24, 10)        330       \n",
            "_________________________________________________________________\n",
            "activation_3 (Activation)    (None, 24, 24, 10)        0         \n",
            "_________________________________________________________________\n",
            "max_pooling2d_1 (MaxPooling2 (None, 12, 12, 10)        0         \n",
            "_________________________________________________________________\n",
            "conv2d_4 (Conv2D)            (None, 10, 10, 16)        1456      \n",
            "_________________________________________________________________\n",
            "batch_normalization_3 (Batch (None, 10, 10, 16)        64        \n",
            "_________________________________________________________________\n",
            "activation_4 (Activation)    (None, 10, 10, 16)        0         \n",
            "_________________________________________________________________\n",
            "dropout_3 (Dropout)          (None, 10, 10, 16)        0         \n",
            "_________________________________________________________________\n",
            "conv2d_5 (Conv2D)            (None, 8, 8, 16)          2320      \n",
            "_________________________________________________________________\n",
            "batch_normalization_4 (Batch (None, 8, 8, 16)          64        \n",
            "_________________________________________________________________\n",
            "activation_5 (Activation)    (None, 8, 8, 16)          0         \n",
            "_________________________________________________________________\n",
            "dropout_4 (Dropout)          (None, 8, 8, 16)          0         \n",
            "_________________________________________________________________\n",
            "conv2d_6 (Conv2D)            (None, 6, 6, 16)          2320      \n",
            "_________________________________________________________________\n",
            "batch_normalization_5 (Batch (None, 6, 6, 16)          64        \n",
            "_________________________________________________________________\n",
            "activation_6 (Activation)    (None, 6, 6, 16)          0         \n",
            "_________________________________________________________________\n",
            "dropout_5 (Dropout)          (None, 6, 6, 16)          0         \n",
            "_________________________________________________________________\n",
            "conv2d_7 (Conv2D)            (None, 4, 4, 16)          2320      \n",
            "_________________________________________________________________\n",
            "batch_normalization_6 (Batch (None, 4, 4, 16)          64        \n",
            "_________________________________________________________________\n",
            "activation_7 (Activation)    (None, 4, 4, 16)          0         \n",
            "_________________________________________________________________\n",
            "dropout_6 (Dropout)          (None, 4, 4, 16)          0         \n",
            "_________________________________________________________________\n",
            "conv2d_8 (Conv2D)            (None, 1, 1, 10)          2570      \n",
            "_________________________________________________________________\n",
            "flatten_1 (Flatten)          (None, 10)                0         \n",
            "_________________________________________________________________\n",
            "activation_8 (Activation)    (None, 10)                0         \n",
            "=================================================================\n",
            "Total params: 16,564\n",
            "Trainable params: 16,340\n",
            "Non-trainable params: 224\n",
            "_________________________________________________________________\n"
          ],
          "name": "stdout"
        },
        {
          "output_type": "stream",
          "text": [
            "/usr/local/lib/python3.6/dist-packages/ipykernel_launcher.py:37: UserWarning: Update your `Conv2D` call to the Keras 2 API: `Conv2D(16, (3, 3))`\n",
            "/usr/local/lib/python3.6/dist-packages/ipykernel_launcher.py:43: UserWarning: Update your `Conv2D` call to the Keras 2 API: `Conv2D(10, (4, 4))`\n"
          ],
          "name": "stderr"
        }
      ]
    },
    {
      "cell_type": "code",
      "metadata": {
        "id": "PtQlKnE8sK5F",
        "colab_type": "code",
        "outputId": "1ed41853-5f1c-45c0-eedf-a13483b51b8e",
        "colab": {
          "base_uri": "https://localhost:8080/",
          "height": 122
        }
      },
      "source": [
        "# For retrieving the saved best results\n",
        "from google.colab import drive\n",
        "drive.mount('/content/gdrive')"
      ],
      "execution_count": 0,
      "outputs": [
        {
          "output_type": "stream",
          "text": [
            "Go to this URL in a browser: https://accounts.google.com/o/oauth2/auth?client_id=947318989803-6bn6qk8qdgf4n4g3pfee6491hc0brc4i.apps.googleusercontent.com&redirect_uri=urn%3Aietf%3Awg%3Aoauth%3A2.0%3Aoob&scope=email%20https%3A%2F%2Fwww.googleapis.com%2Fauth%2Fdocs.test%20https%3A%2F%2Fwww.googleapis.com%2Fauth%2Fdrive%20https%3A%2F%2Fwww.googleapis.com%2Fauth%2Fdrive.photos.readonly%20https%3A%2F%2Fwww.googleapis.com%2Fauth%2Fpeopleapi.readonly&response_type=code\n",
            "\n",
            "Enter your authorization code:\n",
            "··········\n",
            "Mounted at /content/gdrive\n"
          ],
          "name": "stdout"
        }
      ]
    },
    {
      "cell_type": "code",
      "metadata": {
        "id": "TPlWY7UTsPAD",
        "colab_type": "code",
        "colab": {}
      },
      "source": [
        "# Defining checkpoints\n",
        "from keras.callbacks import ModelCheckpoint\n",
        "filepath=\"/content/gdrive/My Drive/Lokesh-{epoch:02d}-{val_acc:.2f}.hdf5\"\n",
        "checkpoint = ModelCheckpoint(filepath, monitor='val_acc', verbose=1, save_best_only=True, mode='max')\n",
        "callbacks_list = [checkpoint]"
      ],
      "execution_count": 0,
      "outputs": []
    },
    {
      "cell_type": "code",
      "metadata": {
        "id": "mTMSvXdrsQgs",
        "colab_type": "code",
        "outputId": "07f05ca1-deab-4f9d-b43c-568258cb348d",
        "colab": {
          "base_uri": "https://localhost:8080/",
          "height": 34
        }
      },
      "source": [
        "print(X_train.shape)"
      ],
      "execution_count": 0,
      "outputs": [
        {
          "output_type": "stream",
          "text": [
            "(60000, 28, 28, 1)\n"
          ],
          "name": "stdout"
        }
      ]
    },
    {
      "cell_type": "code",
      "metadata": {
        "id": "SsPJ0u5psR4v",
        "colab_type": "code",
        "outputId": "70b0a7f8-14f3-46e2-fb53-96332f49caaa",
        "colab": {
          "base_uri": "https://localhost:8080/",
          "height": 4185
        }
      },
      "source": [
        "from keras.optimizers import Adam\n",
        "from keras.callbacks import LearningRateScheduler\n",
        "def scheduler(epoch, lr):\n",
        "  return round(0.003 * 1/(1 + 0.319 * epoch), 10)\n",
        "\n",
        "callbacks_list.append(LearningRateScheduler(scheduler, verbose=1))\n",
        "\n",
        "model.compile(loss='categorical_crossentropy', optimizer=Adam(lr=0.003), metrics=['accuracy'])\n",
        "\n",
        "model.fit_generator(\n",
        "        train_generator,\n",
        "        steps_per_epoch=128,\n",
        "        epochs=40,\n",
        "        validation_data=test_generator,\n",
        "        callbacks=callbacks_list,\n",
        "        validation_steps=600) "
      ],
      "execution_count": 18,
      "outputs": [
        {
          "output_type": "stream",
          "text": [
            "WARNING:tensorflow:From /usr/local/lib/python3.6/dist-packages/tensorflow/python/ops/math_ops.py:3066: to_int32 (from tensorflow.python.ops.math_ops) is deprecated and will be removed in a future version.\n",
            "Instructions for updating:\n",
            "Use tf.cast instead.\n",
            "Epoch 1/40\n",
            "\n",
            "Epoch 00001: LearningRateScheduler setting learning rate to 0.003.\n",
            "128/128 [==============================] - 127s 991ms/step - loss: 0.5574 - acc: 0.8244 - val_loss: 0.2356 - val_acc: 0.9242\n",
            "\n",
            "Epoch 00001: val_acc improved from -inf to 0.92421, saving model to /content/gdrive/My Drive/Lokesh-01-0.92.hdf5\n",
            "Epoch 2/40\n",
            "\n",
            "Epoch 00002: LearningRateScheduler setting learning rate to 0.0022744503.\n",
            "128/128 [==============================] - 123s 961ms/step - loss: 0.1348 - acc: 0.9601 - val_loss: 0.1193 - val_acc: 0.9623\n",
            "\n",
            "Epoch 00002: val_acc improved from 0.92421 to 0.96227, saving model to /content/gdrive/My Drive/Lokesh-02-0.96.hdf5\n",
            "Epoch 3/40\n",
            "\n",
            "Epoch 00003: LearningRateScheduler setting learning rate to 0.0018315018.\n",
            "128/128 [==============================] - 123s 964ms/step - loss: 0.0949 - acc: 0.9710 - val_loss: 0.0587 - val_acc: 0.9804\n",
            "\n",
            "Epoch 00003: val_acc improved from 0.96227 to 0.98036, saving model to /content/gdrive/My Drive/Lokesh-03-0.98.hdf5\n",
            "Epoch 4/40\n",
            "\n",
            "Epoch 00004: LearningRateScheduler setting learning rate to 0.0015329586.\n",
            "128/128 [==============================] - 124s 968ms/step - loss: 0.0782 - acc: 0.9764 - val_loss: 0.0451 - val_acc: 0.9859\n",
            "\n",
            "Epoch 00004: val_acc improved from 0.98036 to 0.98590, saving model to /content/gdrive/My Drive/Lokesh-04-0.99.hdf5\n",
            "Epoch 5/40\n",
            "\n",
            "Epoch 00005: LearningRateScheduler setting learning rate to 0.0013181019.\n",
            "128/128 [==============================] - 123s 959ms/step - loss: 0.0691 - acc: 0.9772 - val_loss: 0.0537 - val_acc: 0.9835\n",
            "\n",
            "Epoch 00005: val_acc did not improve from 0.98590\n",
            "Epoch 6/40\n",
            "\n",
            "Epoch 00006: LearningRateScheduler setting learning rate to 0.0011560694.\n",
            "128/128 [==============================] - 123s 964ms/step - loss: 0.0705 - acc: 0.9794 - val_loss: 0.0599 - val_acc: 0.9809\n",
            "\n",
            "Epoch 00006: val_acc did not improve from 0.98590\n",
            "Epoch 7/40\n",
            "\n",
            "Epoch 00007: LearningRateScheduler setting learning rate to 0.0010295127.\n",
            "128/128 [==============================] - 124s 972ms/step - loss: 0.0646 - acc: 0.9807 - val_loss: 0.0361 - val_acc: 0.9887\n",
            "\n",
            "Epoch 00007: val_acc improved from 0.98590 to 0.98871, saving model to /content/gdrive/My Drive/Lokesh-07-0.99.hdf5\n",
            "Epoch 8/40\n",
            "\n",
            "Epoch 00008: LearningRateScheduler setting learning rate to 0.0009279307.\n",
            "128/128 [==============================] - 123s 964ms/step - loss: 0.0541 - acc: 0.9834 - val_loss: 0.0471 - val_acc: 0.9858\n",
            "\n",
            "Epoch 00008: val_acc did not improve from 0.98871\n",
            "Epoch 9/40\n",
            "\n",
            "Epoch 00009: LearningRateScheduler setting learning rate to 0.0008445946.\n",
            "128/128 [==============================] - 122s 953ms/step - loss: 0.0516 - acc: 0.9843 - val_loss: 0.0338 - val_acc: 0.9895\n",
            "\n",
            "Epoch 00009: val_acc improved from 0.98871 to 0.98946, saving model to /content/gdrive/My Drive/Lokesh-09-0.99.hdf5\n",
            "Epoch 10/40\n",
            "\n",
            "Epoch 00010: LearningRateScheduler setting learning rate to 0.0007749935.\n",
            "128/128 [==============================] - 121s 948ms/step - loss: 0.0526 - acc: 0.9839 - val_loss: 0.0315 - val_acc: 0.9900\n",
            "\n",
            "Epoch 00010: val_acc improved from 0.98946 to 0.99000, saving model to /content/gdrive/My Drive/Lokesh-10-0.99.hdf5\n",
            "Epoch 11/40\n",
            "\n",
            "Epoch 00011: LearningRateScheduler setting learning rate to 0.0007159905.\n",
            "128/128 [==============================] - 122s 956ms/step - loss: 0.0492 - acc: 0.9857 - val_loss: 0.0330 - val_acc: 0.9888\n",
            "\n",
            "Epoch 00011: val_acc did not improve from 0.99000\n",
            "Epoch 12/40\n",
            "\n",
            "Epoch 00012: LearningRateScheduler setting learning rate to 0.000665336.\n",
            "128/128 [==============================] - 122s 956ms/step - loss: 0.0458 - acc: 0.9854 - val_loss: 0.0304 - val_acc: 0.9908\n",
            "\n",
            "Epoch 00012: val_acc improved from 0.99000 to 0.99084, saving model to /content/gdrive/My Drive/Lokesh-12-0.99.hdf5\n",
            "Epoch 13/40\n",
            "\n",
            "Epoch 00013: LearningRateScheduler setting learning rate to 0.0006213753.\n",
            "128/128 [==============================] - 122s 957ms/step - loss: 0.0414 - acc: 0.9858 - val_loss: 0.0289 - val_acc: 0.9911\n",
            "\n",
            "Epoch 00013: val_acc improved from 0.99084 to 0.99115, saving model to /content/gdrive/My Drive/Lokesh-13-0.99.hdf5\n",
            "Epoch 14/40\n",
            "\n",
            "Epoch 00014: LearningRateScheduler setting learning rate to 0.0005828638.\n",
            "128/128 [==============================] - 122s 951ms/step - loss: 0.0449 - acc: 0.9860 - val_loss: 0.0320 - val_acc: 0.9890\n",
            "\n",
            "Epoch 00014: val_acc did not improve from 0.99115\n",
            "Epoch 15/40\n",
            "\n",
            "Epoch 00015: LearningRateScheduler setting learning rate to 0.0005488474.\n",
            "128/128 [==============================] - 123s 958ms/step - loss: 0.0416 - acc: 0.9874 - val_loss: 0.0261 - val_acc: 0.9921\n",
            "\n",
            "Epoch 00015: val_acc improved from 0.99115 to 0.99207, saving model to /content/gdrive/My Drive/Lokesh-15-0.99.hdf5\n",
            "Epoch 16/40\n",
            "\n",
            "Epoch 00016: LearningRateScheduler setting learning rate to 0.0005185825.\n",
            "128/128 [==============================] - 124s 966ms/step - loss: 0.0387 - acc: 0.9871 - val_loss: 0.0326 - val_acc: 0.9898\n",
            "\n",
            "Epoch 00016: val_acc did not improve from 0.99207\n",
            "Epoch 17/40\n",
            "\n",
            "Epoch 00017: LearningRateScheduler setting learning rate to 0.000491481.\n",
            "128/128 [==============================] - 122s 956ms/step - loss: 0.0404 - acc: 0.9877 - val_loss: 0.0295 - val_acc: 0.9903\n",
            "\n",
            "Epoch 00017: val_acc did not improve from 0.99207\n",
            "Epoch 18/40\n",
            "\n",
            "Epoch 00018: LearningRateScheduler setting learning rate to 0.0004670715.\n",
            "128/128 [==============================] - 122s 956ms/step - loss: 0.0417 - acc: 0.9872 - val_loss: 0.0239 - val_acc: 0.9921\n",
            "\n",
            "Epoch 00018: val_acc improved from 0.99207 to 0.99215, saving model to /content/gdrive/My Drive/Lokesh-18-0.99.hdf5\n",
            "Epoch 19/40\n",
            "\n",
            "Epoch 00019: LearningRateScheduler setting learning rate to 0.0004449718.\n",
            "128/128 [==============================] - 123s 959ms/step - loss: 0.0374 - acc: 0.9881 - val_loss: 0.0251 - val_acc: 0.9924\n",
            "\n",
            "Epoch 00019: val_acc improved from 0.99215 to 0.99241, saving model to /content/gdrive/My Drive/Lokesh-19-0.99.hdf5\n",
            "Epoch 20/40\n",
            "\n",
            "Epoch 00020: LearningRateScheduler setting learning rate to 0.000424869.\n",
            "128/128 [==============================] - 123s 961ms/step - loss: 0.0370 - acc: 0.9888 - val_loss: 0.0287 - val_acc: 0.9908\n",
            "\n",
            "Epoch 00020: val_acc did not improve from 0.99241\n",
            "Epoch 21/40\n",
            "\n",
            "Epoch 00021: LearningRateScheduler setting learning rate to 0.0004065041.\n",
            "128/128 [==============================] - 123s 961ms/step - loss: 0.0371 - acc: 0.9890 - val_loss: 0.0293 - val_acc: 0.9911\n",
            "\n",
            "Epoch 00021: val_acc did not improve from 0.99241\n",
            "Epoch 22/40\n",
            "\n",
            "Epoch 00022: LearningRateScheduler setting learning rate to 0.000389661.\n",
            "128/128 [==============================] - 123s 961ms/step - loss: 0.0360 - acc: 0.9886 - val_loss: 0.0216 - val_acc: 0.9936\n",
            "\n",
            "Epoch 00022: val_acc improved from 0.99241 to 0.99360, saving model to /content/gdrive/My Drive/Lokesh-22-0.99.hdf5\n",
            "Epoch 23/40\n",
            "\n",
            "Epoch 00023: LearningRateScheduler setting learning rate to 0.0003741581.\n",
            "128/128 [==============================] - 123s 958ms/step - loss: 0.0334 - acc: 0.9893 - val_loss: 0.0267 - val_acc: 0.9916\n",
            "\n",
            "Epoch 00023: val_acc did not improve from 0.99360\n",
            "Epoch 24/40\n",
            "\n",
            "Epoch 00024: LearningRateScheduler setting learning rate to 0.0003598417.\n",
            "128/128 [==============================] - 123s 962ms/step - loss: 0.0340 - acc: 0.9892 - val_loss: 0.0229 - val_acc: 0.9924\n",
            "\n",
            "Epoch 00024: val_acc did not improve from 0.99360\n",
            "Epoch 25/40\n",
            "\n",
            "Epoch 00025: LearningRateScheduler setting learning rate to 0.0003465804.\n",
            "128/128 [==============================] - 123s 961ms/step - loss: 0.0350 - acc: 0.9896 - val_loss: 0.0248 - val_acc: 0.9915\n",
            "\n",
            "Epoch 00025: val_acc did not improve from 0.99360\n",
            "Epoch 26/40\n",
            "\n",
            "Epoch 00026: LearningRateScheduler setting learning rate to 0.0003342618.\n",
            "128/128 [==============================] - 124s 966ms/step - loss: 0.0327 - acc: 0.9897 - val_loss: 0.0228 - val_acc: 0.9935\n",
            "\n",
            "Epoch 00026: val_acc did not improve from 0.99360\n",
            "Epoch 27/40\n",
            "\n",
            "Epoch 00027: LearningRateScheduler setting learning rate to 0.0003227889.\n",
            "128/128 [==============================] - 123s 964ms/step - loss: 0.0303 - acc: 0.9902 - val_loss: 0.0254 - val_acc: 0.9924\n",
            "\n",
            "Epoch 00027: val_acc did not improve from 0.99360\n",
            "Epoch 28/40\n",
            "\n",
            "Epoch 00028: LearningRateScheduler setting learning rate to 0.0003120774.\n",
            "128/128 [==============================] - 124s 969ms/step - loss: 0.0338 - acc: 0.9896 - val_loss: 0.0254 - val_acc: 0.9924\n",
            "\n",
            "Epoch 00028: val_acc did not improve from 0.99360\n",
            "Epoch 29/40\n",
            "\n",
            "Epoch 00029: LearningRateScheduler setting learning rate to 0.000302054.\n",
            "128/128 [==============================] - 123s 960ms/step - loss: 0.0331 - acc: 0.9901 - val_loss: 0.0197 - val_acc: 0.9939\n",
            "\n",
            "Epoch 00029: val_acc improved from 0.99360 to 0.99391, saving model to /content/gdrive/My Drive/Lokesh-29-0.99.hdf5\n",
            "Epoch 30/40\n",
            "\n",
            "Epoch 00030: LearningRateScheduler setting learning rate to 0.0002926544.\n",
            "128/128 [==============================] - 121s 947ms/step - loss: 0.0312 - acc: 0.9907 - val_loss: 0.0225 - val_acc: 0.9927\n",
            "\n",
            "Epoch 00030: val_acc did not improve from 0.99391\n",
            "Epoch 31/40\n",
            "\n",
            "Epoch 00031: LearningRateScheduler setting learning rate to 0.0002838221.\n",
            "128/128 [==============================] - 122s 949ms/step - loss: 0.0297 - acc: 0.9902 - val_loss: 0.0216 - val_acc: 0.9936\n",
            "\n",
            "Epoch 00031: val_acc did not improve from 0.99391\n",
            "Epoch 32/40\n",
            "\n",
            "Epoch 00032: LearningRateScheduler setting learning rate to 0.0002755074.\n",
            "128/128 [==============================] - 122s 952ms/step - loss: 0.0292 - acc: 0.9906 - val_loss: 0.0238 - val_acc: 0.9926\n",
            "\n",
            "Epoch 00032: val_acc did not improve from 0.99391\n",
            "Epoch 33/40\n",
            "\n",
            "Epoch 00033: LearningRateScheduler setting learning rate to 0.000267666.\n",
            "128/128 [==============================] - 123s 958ms/step - loss: 0.0309 - acc: 0.9905 - val_loss: 0.0205 - val_acc: 0.9940\n",
            "\n",
            "Epoch 00033: val_acc improved from 0.99391 to 0.99404, saving model to /content/gdrive/My Drive/Lokesh-33-0.99.hdf5\n",
            "Epoch 34/40\n",
            "\n",
            "Epoch 00034: LearningRateScheduler setting learning rate to 0.0002602585.\n",
            "128/128 [==============================] - 121s 944ms/step - loss: 0.0323 - acc: 0.9901 - val_loss: 0.0241 - val_acc: 0.9923\n",
            "\n",
            "Epoch 00034: val_acc did not improve from 0.99404\n",
            "Epoch 35/40\n",
            "\n",
            "Epoch 00035: LearningRateScheduler setting learning rate to 0.00025325.\n",
            "128/128 [==============================] - 120s 940ms/step - loss: 0.0290 - acc: 0.9906 - val_loss: 0.0216 - val_acc: 0.9934\n",
            "\n",
            "Epoch 00035: val_acc did not improve from 0.99404\n",
            "Epoch 36/40\n",
            "\n",
            "Epoch 00036: LearningRateScheduler setting learning rate to 0.0002466091.\n",
            "128/128 [==============================] - 122s 955ms/step - loss: 0.0333 - acc: 0.9892 - val_loss: 0.0219 - val_acc: 0.9930\n",
            "\n",
            "Epoch 00036: val_acc did not improve from 0.99404\n",
            "Epoch 37/40\n",
            "\n",
            "Epoch 00037: LearningRateScheduler setting learning rate to 0.0002403076.\n",
            "128/128 [==============================] - 121s 943ms/step - loss: 0.0284 - acc: 0.9912 - val_loss: 0.0204 - val_acc: 0.9939\n",
            "\n",
            "Epoch 00037: val_acc did not improve from 0.99404\n",
            "Epoch 38/40\n",
            "\n",
            "Epoch 00038: LearningRateScheduler setting learning rate to 0.0002343201.\n",
            "128/128 [==============================] - 121s 943ms/step - loss: 0.0282 - acc: 0.9916 - val_loss: 0.0219 - val_acc: 0.9934\n",
            "\n",
            "Epoch 00038: val_acc did not improve from 0.99404\n",
            "Epoch 39/40\n",
            "\n",
            "Epoch 00039: LearningRateScheduler setting learning rate to 0.0002286237.\n",
            "128/128 [==============================] - 121s 944ms/step - loss: 0.0308 - acc: 0.9902 - val_loss: 0.0223 - val_acc: 0.9933\n",
            "\n",
            "Epoch 00039: val_acc did not improve from 0.99404\n",
            "Epoch 40/40\n",
            "\n",
            "Epoch 00040: LearningRateScheduler setting learning rate to 0.0002231977.\n",
            "128/128 [==============================] - 122s 952ms/step - loss: 0.0275 - acc: 0.9915 - val_loss: 0.0201 - val_acc: 0.9945\n",
            "\n",
            "Epoch 00040: val_acc improved from 0.99404 to 0.99451, saving model to /content/gdrive/My Drive/Lokesh-40-0.99.hdf5\n"
          ],
          "name": "stdout"
        },
        {
          "output_type": "execute_result",
          "data": {
            "text/plain": [
              "<keras.callbacks.History at 0x7fdd698f4198>"
            ]
          },
          "metadata": {
            "tags": []
          },
          "execution_count": 18
        }
      ]
    },
    {
      "cell_type": "code",
      "metadata": {
        "id": "FrX3rYuasTeG",
        "colab_type": "code",
        "colab": {}
      },
      "source": [
        "score = model.evaluate_generator(test_generator,steps=200)"
      ],
      "execution_count": 0,
      "outputs": []
    },
    {
      "cell_type": "code",
      "metadata": {
        "id": "LAaKHWaQsUF7",
        "colab_type": "code",
        "colab": {
          "base_uri": "https://localhost:8080/",
          "height": 34
        },
        "outputId": "d0164bd0-4456-4ba7-de37-8d5121de82de"
      },
      "source": [
        "#score = model.evaluate(X_test, Y_test, verbose=0)\n",
        "print(score)"
      ],
      "execution_count": 20,
      "outputs": [
        {
          "output_type": "stream",
          "text": [
            "[0.022480760340843092, 0.9937460417986067]\n"
          ],
          "name": "stdout"
        }
      ]
    },
    {
      "cell_type": "code",
      "metadata": {
        "id": "6eip_tqOsVrU",
        "colab_type": "code",
        "colab": {
          "base_uri": "https://localhost:8080/",
          "height": 34
        },
        "outputId": "ffdf8b01-38f6-4e95-a701-e939d4d4be35"
      },
      "source": [
        "count = model.predict_generator(test_generator,600)\n",
        "print(count.shape)"
      ],
      "execution_count": 21,
      "outputs": [
        {
          "output_type": "stream",
          "text": [
            "(75904, 10)\n"
          ],
          "name": "stdout"
        }
      ]
    },
    {
      "cell_type": "code",
      "metadata": {
        "id": "VamDrnu5sXM0",
        "colab_type": "code",
        "colab": {}
      },
      "source": [
        "predicted_classes = model.predict_classes(X_test)"
      ],
      "execution_count": 0,
      "outputs": []
    },
    {
      "cell_type": "code",
      "metadata": {
        "id": "AjtJFBrgsYql",
        "colab_type": "code",
        "colab": {
          "base_uri": "https://localhost:8080/",
          "height": 51
        },
        "outputId": "3c1ca2bd-a0a3-469e-d89c-f9b70e54c787"
      },
      "source": [
        "print(predicted_classes)\n",
        "print(len(predicted_classes))"
      ],
      "execution_count": 23,
      "outputs": [
        {
          "output_type": "stream",
          "text": [
            "[7 1 1 ... 4 6 6]\n",
            "10000\n"
          ],
          "name": "stdout"
        }
      ]
    },
    {
      "cell_type": "code",
      "metadata": {
        "id": "z3H7mI8-sZ-e",
        "colab_type": "code",
        "colab": {}
      },
      "source": [
        "X_train = X_train.reshape(X_train.shape[0], 28, 28)\n",
        "X_test = X_test.reshape(X_test.shape[0], 28, 28)"
      ],
      "execution_count": 0,
      "outputs": []
    },
    {
      "cell_type": "code",
      "metadata": {
        "id": "wUkPXwUvsbQD",
        "colab_type": "code",
        "colab": {
          "base_uri": "https://localhost:8080/",
          "height": 286
        },
        "outputId": "e1c1e173-9362-47fa-8dcc-0b39dddd8752"
      },
      "source": [
        "\"\"\"\n",
        "Printing 10 images in a subplot. \n",
        "\"\"\"\n",
        "print (X_train.shape)\n",
        "\n",
        "fig, ax = plt.subplots(nrows=5, ncols=5)\n",
        "\n",
        "i = 0\n",
        "\n",
        "for row in ax:\n",
        "\tfor col in row:\n",
        "\t\tif i < 100:\n",
        "\t\t\tcol.imshow(X_train[i].astype(int))\n",
        "\t\t\ti += 1"
      ],
      "execution_count": 25,
      "outputs": [
        {
          "output_type": "stream",
          "text": [
            "(60000, 28, 28)\n"
          ],
          "name": "stdout"
        },
        {
          "output_type": "display_data",
          "data": {
            "image/png": "[encoded data removed]",
            "text/plain": [
              "<Figure size 432x288 with 25 Axes>"
            ]
          },
          "metadata": {
            "tags": []
          }
        }
      ]
    },
    {
      "cell_type": "code",
      "metadata": {
        "id": "BqfduWABscsW",
        "colab_type": "code",
        "colab": {
          "base_uri": "https://localhost:8080/",
          "height": 51
        },
        "outputId": "75ddfaef-e3eb-4966-9c08-0f0cb9d48788"
      },
      "source": [
        "correct = np.nonzero(predicted_classes==y_test)\n",
        "print(correct)\n",
        "print(len(correct))"
      ],
      "execution_count": 26,
      "outputs": [
        {
          "output_type": "stream",
          "text": [
            "(array([   0,    2,    3, ..., 9994, 9997, 9999]),)\n",
            "1\n"
          ],
          "name": "stdout"
        }
      ]
    },
    {
      "cell_type": "code",
      "metadata": {
        "id": "W7s84x4Oskcu",
        "colab_type": "code",
        "colab": {
          "base_uri": "https://localhost:8080/",
          "height": 34
        },
        "outputId": "7061e8ec-f39f-42e6-ee0b-155bf56a2554"
      },
      "source": [
        "incorrect = np.nonzero(predicted_classes!=y_test)\n",
        "print(incorrect)"
      ],
      "execution_count": 27,
      "outputs": [
        {
          "output_type": "stream",
          "text": [
            "(array([   1,    7,    8, ..., 9995, 9996, 9998]),)\n"
          ],
          "name": "stdout"
        }
      ]
    },
    {
      "cell_type": "code",
      "metadata": {
        "id": "qgQ8ie29snQ_",
        "colab_type": "code",
        "colab": {
          "base_uri": "https://localhost:8080/",
          "height": 51
        },
        "outputId": "20960e8c-957d-4e2b-d24c-64b814d10d63"
      },
      "source": [
        "arincorr = incorrect[0][0:25]\n",
        "arincorr"
      ],
      "execution_count": 28,
      "outputs": [
        {
          "output_type": "execute_result",
          "data": {
            "text/plain": [
              "array([ 1,  7,  8,  9, 12, 18, 20, 23, 30, 32, 38, 43, 44, 45, 47, 52, 53,\n",
              "       58, 59, 62, 63, 68, 72, 75, 76])"
            ]
          },
          "metadata": {
            "tags": []
          },
          "execution_count": 28
        }
      ]
    },
    {
      "cell_type": "code",
      "metadata": {
        "id": "7vWJ9zIqsvsn",
        "colab_type": "code",
        "colab": {
          "base_uri": "https://localhost:8080/",
          "height": 2873
        },
        "outputId": "80b4113f-9606-4291-fe47-0ab2a2bb2229"
      },
      "source": [
        "X_test[3].reshape(28,28)"
      ],
      "execution_count": 29,
      "outputs": [
        {
          "output_type": "execute_result",
          "data": {
            "text/plain": [
              "array([[0.        , 0.        , 0.        , 0.        , 0.        ,\n",
              "        0.        , 0.        , 0.        , 0.        , 0.        ,\n",
              "        0.        , 0.        , 0.        , 0.        , 0.        ,\n",
              "        0.        , 0.        , 0.        , 0.        , 0.        ,\n",
              "        0.        , 0.        , 0.        , 0.        , 0.        ,\n",
              "        0.        , 0.        , 0.        ],\n",
              "       [0.        , 0.        , 0.        , 0.        , 0.        ,\n",
              "        0.        , 0.        , 0.        , 0.        , 0.        ,\n",
              "        0.        , 0.        , 0.        , 0.        , 0.        ,\n",
              "        0.        , 0.        , 0.        , 0.        , 0.        ,\n",
              "        0.        , 0.        , 0.        , 0.        , 0.        ,\n",
              "        0.        , 0.        , 0.        ],\n",
              "       [0.        , 0.        , 0.        , 0.        , 0.        ,\n",
              "        0.        , 0.        , 0.        , 0.        , 0.        ,\n",
              "        0.        , 0.        , 0.        , 0.        , 0.        ,\n",
              "        0.        , 0.        , 0.        , 0.        , 0.        ,\n",
              "        0.        , 0.        , 0.        , 0.        , 0.        ,\n",
              "        0.        , 0.        , 0.        ],\n",
              "       [0.        , 0.        , 0.        , 0.        , 0.        ,\n",
              "        0.        , 0.        , 0.        , 0.        , 0.        ,\n",
              "        0.        , 0.        , 0.        , 0.        , 0.        ,\n",
              "        0.        , 0.        , 0.        , 0.        , 0.        ,\n",
              "        0.        , 0.        , 0.        , 0.        , 0.        ,\n",
              "        0.        , 0.        , 0.        ],\n",
              "       [0.        , 0.        , 0.        , 0.        , 0.        ,\n",
              "        0.        , 0.        , 0.        , 0.        , 0.        ,\n",
              "        0.        , 0.        , 0.04313726, 0.5882353 , 0.99215686,\n",
              "        0.7921569 , 0.12156863, 0.        , 0.        , 0.        ,\n",
              "        0.        , 0.        , 0.        , 0.        , 0.        ,\n",
              "        0.        , 0.        , 0.        ],\n",
              "       [0.        , 0.        , 0.        , 0.        , 0.        ,\n",
              "        0.        , 0.        , 0.        , 0.        , 0.        ,\n",
              "        0.        , 0.        , 0.14509805, 0.9843137 , 0.9843137 ,\n",
              "        0.99215686, 0.41960785, 0.        , 0.        , 0.        ,\n",
              "        0.        , 0.        , 0.        , 0.        , 0.        ,\n",
              "        0.        , 0.        , 0.        ],\n",
              "       [0.        , 0.        , 0.        , 0.        , 0.        ,\n",
              "        0.        , 0.        , 0.        , 0.        , 0.        ,\n",
              "        0.        , 0.08235294, 0.77254903, 0.9843137 , 0.9843137 ,\n",
              "        0.99215686, 0.41960785, 0.        , 0.        , 0.        ,\n",
              "        0.        , 0.        , 0.        , 0.        , 0.        ,\n",
              "        0.        , 0.        , 0.        ],\n",
              "       [0.        , 0.        , 0.        , 0.        , 0.        ,\n",
              "        0.        , 0.        , 0.        , 0.        , 0.        ,\n",
              "        0.43137255, 0.74509805, 0.9843137 , 0.9843137 , 0.9843137 ,\n",
              "        0.99215686, 0.6627451 , 0.42745098, 0.24313726, 0.        ,\n",
              "        0.        , 0.        , 0.        , 0.        , 0.        ,\n",
              "        0.        , 0.        , 0.        ],\n",
              "       [0.        , 0.        , 0.        , 0.        , 0.        ,\n",
              "        0.        , 0.        , 0.        , 0.        , 0.        ,\n",
              "        0.99215686, 0.9843137 , 0.9843137 , 0.9843137 , 0.9843137 ,\n",
              "        0.99215686, 0.9843137 , 0.9843137 , 0.8627451 , 0.2       ,\n",
              "        0.        , 0.        , 0.        , 0.        , 0.        ,\n",
              "        0.        , 0.        , 0.        ],\n",
              "       [0.        , 0.        , 0.        , 0.        , 0.        ,\n",
              "        0.        , 0.        , 0.        , 0.        , 0.7137255 ,\n",
              "        1.        , 0.99215686, 0.99215686, 0.99215686, 0.99215686,\n",
              "        0.91764706, 0.87058824, 0.99215686, 0.99215686, 0.99215686,\n",
              "        0.        , 0.        , 0.        , 0.        , 0.        ,\n",
              "        0.        , 0.        , 0.        ],\n",
              "       [0.        , 0.        , 0.        , 0.        , 0.        ,\n",
              "        0.        , 0.        , 0.        , 0.24705882, 0.8666667 ,\n",
              "        0.99215686, 0.9843137 , 0.9843137 , 0.9843137 , 0.5764706 ,\n",
              "        0.3019608 , 0.24313726, 0.5019608 , 0.9843137 , 0.9843137 ,\n",
              "        0.4117647 , 0.        , 0.        , 0.        , 0.        ,\n",
              "        0.        , 0.        , 0.        ],\n",
              "       [0.        , 0.        , 0.        , 0.        , 0.        ,\n",
              "        0.        , 0.        , 0.1254902 , 0.90588236, 0.9843137 ,\n",
              "        0.99215686, 0.9843137 , 0.8627451 , 0.5372549 , 0.03921569,\n",
              "        0.        , 0.        , 0.12156863, 0.9019608 , 0.9843137 ,\n",
              "        0.9529412 , 0.44313726, 0.01960784, 0.        , 0.        ,\n",
              "        0.        , 0.        , 0.        ],\n",
              "       [0.        , 0.        , 0.        , 0.        , 0.        ,\n",
              "        0.        , 0.        , 0.14509805, 0.9843137 , 0.9843137 ,\n",
              "        0.99215686, 0.7372549 , 0.07843138, 0.        , 0.        ,\n",
              "        0.        , 0.        , 0.        , 0.42745098, 0.9843137 ,\n",
              "        0.99215686, 0.9843137 , 0.13725491, 0.        , 0.        ,\n",
              "        0.        , 0.        , 0.        ],\n",
              "       [0.        , 0.        , 0.        , 0.        , 0.        ,\n",
              "        0.        , 0.        , 0.14509805, 0.9843137 , 0.9843137 ,\n",
              "        0.7882353 , 0.11764706, 0.        , 0.        , 0.        ,\n",
              "        0.        , 0.        , 0.        , 0.12156863, 0.78431374,\n",
              "        0.99215686, 0.9843137 , 0.13725491, 0.        , 0.        ,\n",
              "        0.        , 0.        , 0.        ],\n",
              "       [0.        , 0.        , 0.        , 0.        , 0.        ,\n",
              "        0.        , 0.        , 0.14509805, 0.99215686, 0.99215686,\n",
              "        0.        , 0.        , 0.        , 0.        , 0.        ,\n",
              "        0.        , 0.        , 0.        , 0.1254902 , 0.7921569 ,\n",
              "        1.        , 0.99215686, 0.6431373 , 0.        , 0.        ,\n",
              "        0.        , 0.        , 0.        ],\n",
              "       [0.        , 0.        , 0.        , 0.        , 0.        ,\n",
              "        0.        , 0.        , 0.54901963, 0.9843137 , 0.9843137 ,\n",
              "        0.        , 0.        , 0.        , 0.        , 0.        ,\n",
              "        0.        , 0.        , 0.        , 0.42745098, 0.9843137 ,\n",
              "        0.99215686, 0.9843137 , 0.13725491, 0.        , 0.        ,\n",
              "        0.        , 0.        , 0.        ],\n",
              "       [0.        , 0.        , 0.        , 0.        , 0.        ,\n",
              "        0.        , 0.        , 0.8509804 , 0.9843137 , 0.9843137 ,\n",
              "        0.        , 0.        , 0.        , 0.        , 0.        ,\n",
              "        0.        , 0.08235294, 0.24705882, 0.90588236, 0.9843137 ,\n",
              "        0.99215686, 0.9019608 , 0.11764706, 0.        , 0.        ,\n",
              "        0.        , 0.        , 0.        ],\n",
              "       [0.        , 0.        , 0.        , 0.        , 0.        ,\n",
              "        0.        , 0.        , 0.8509804 , 0.9843137 , 0.9843137 ,\n",
              "        0.        , 0.        , 0.        , 0.        , 0.        ,\n",
              "        0.        , 0.5647059 , 0.9843137 , 0.9843137 , 0.9843137 ,\n",
              "        0.8666667 , 0.23921569, 0.        , 0.        , 0.        ,\n",
              "        0.        , 0.        , 0.        ],\n",
              "       [0.        , 0.        , 0.        , 0.        , 0.        ,\n",
              "        0.        , 0.        , 0.8509804 , 0.9843137 , 0.9843137 ,\n",
              "        0.        , 0.        , 0.        , 0.        , 0.        ,\n",
              "        0.7137255 , 0.8666667 , 0.9843137 , 0.9843137 , 0.9843137 ,\n",
              "        0.7058824 , 0.        , 0.        , 0.        , 0.        ,\n",
              "        0.        , 0.        , 0.        ],\n",
              "       [0.        , 0.        , 0.        , 0.        , 0.        ,\n",
              "        0.        , 0.        , 0.85490197, 0.99215686, 0.99215686,\n",
              "        0.28627452, 0.28627452, 0.89411765, 0.99215686, 0.99215686,\n",
              "        1.        , 0.99215686, 0.99215686, 0.99215686, 0.99215686,\n",
              "        0.        , 0.        , 0.        , 0.        , 0.        ,\n",
              "        0.        , 0.        , 0.        ],\n",
              "       [0.        , 0.        , 0.        , 0.        , 0.        ,\n",
              "        0.        , 0.        , 0.44313726, 0.9843137 , 0.9843137 ,\n",
              "        0.99215686, 0.9843137 , 0.9843137 , 0.9843137 , 0.9843137 ,\n",
              "        0.99215686, 0.9843137 , 0.9843137 , 0.9843137 , 0.5764706 ,\n",
              "        0.        , 0.        , 0.        , 0.        , 0.        ,\n",
              "        0.        , 0.        , 0.        ],\n",
              "       [0.        , 0.        , 0.        , 0.        , 0.        ,\n",
              "        0.        , 0.        , 0.12156863, 0.9019608 , 0.9843137 ,\n",
              "        0.99215686, 0.9843137 , 0.9843137 , 0.9843137 , 0.9843137 ,\n",
              "        0.99215686, 0.9019608 , 0.7411765 , 0.13725491, 0.03921569,\n",
              "        0.        , 0.        , 0.        , 0.        , 0.        ,\n",
              "        0.        , 0.        , 0.        ],\n",
              "       [0.        , 0.        , 0.        , 0.        , 0.        ,\n",
              "        0.        , 0.        , 0.        , 0.24313726, 0.5568628 ,\n",
              "        0.99215686, 0.9843137 , 0.9843137 , 0.9843137 , 0.9843137 ,\n",
              "        0.99215686, 0.41960785, 0.        , 0.        , 0.        ,\n",
              "        0.        , 0.        , 0.        , 0.        , 0.        ,\n",
              "        0.        , 0.        , 0.        ],\n",
              "       [0.        , 0.        , 0.        , 0.        , 0.        ,\n",
              "        0.        , 0.        , 0.        , 0.        , 0.        ,\n",
              "        0.28235295, 0.68235296, 0.9843137 , 0.6784314 , 0.2784314 ,\n",
              "        0.28235295, 0.11764706, 0.        , 0.        , 0.        ,\n",
              "        0.        , 0.        , 0.        , 0.        , 0.        ,\n",
              "        0.        , 0.        , 0.        ],\n",
              "       [0.        , 0.        , 0.        , 0.        , 0.        ,\n",
              "        0.        , 0.        , 0.        , 0.        , 0.        ,\n",
              "        0.        , 0.        , 0.        , 0.        , 0.        ,\n",
              "        0.        , 0.        , 0.        , 0.        , 0.        ,\n",
              "        0.        , 0.        , 0.        , 0.        , 0.        ,\n",
              "        0.        , 0.        , 0.        ],\n",
              "       [0.        , 0.        , 0.        , 0.        , 0.        ,\n",
              "        0.        , 0.        , 0.        , 0.        , 0.        ,\n",
              "        0.        , 0.        , 0.        , 0.        , 0.        ,\n",
              "        0.        , 0.        , 0.        , 0.        , 0.        ,\n",
              "        0.        , 0.        , 0.        , 0.        , 0.        ,\n",
              "        0.        , 0.        , 0.        ],\n",
              "       [0.        , 0.        , 0.        , 0.        , 0.        ,\n",
              "        0.        , 0.        , 0.        , 0.        , 0.        ,\n",
              "        0.        , 0.        , 0.        , 0.        , 0.        ,\n",
              "        0.        , 0.        , 0.        , 0.        , 0.        ,\n",
              "        0.        , 0.        , 0.        , 0.        , 0.        ,\n",
              "        0.        , 0.        , 0.        ],\n",
              "       [0.        , 0.        , 0.        , 0.        , 0.        ,\n",
              "        0.        , 0.        , 0.        , 0.        , 0.        ,\n",
              "        0.        , 0.        , 0.        , 0.        , 0.        ,\n",
              "        0.        , 0.        , 0.        , 0.        , 0.        ,\n",
              "        0.        , 0.        , 0.        , 0.        , 0.        ,\n",
              "        0.        , 0.        , 0.        ]], dtype=float32)"
            ]
          },
          "metadata": {
            "tags": []
          },
          "execution_count": 29
        }
      ]
    },
    {
      "cell_type": "code",
      "metadata": {
        "id": "nFdOs4lm7pBp",
        "colab_type": "code",
        "colab": {
          "base_uri": "https://localhost:8080/",
          "height": 281
        },
        "outputId": "c5f36b57-d3b6-4737-a4eb-1a6e41e0606f"
      },
      "source": [
        "import matplotlib.pyplot as plt\n",
        "import numpy as np\n",
        "\n",
        "plt.figure(0)\n",
        "plots = []\n",
        "count = 0\n",
        "for i in range(5):\n",
        "    for j in range(5):\n",
        "        ax = plt.subplot2grid((5,5), (i,j))\n",
        "        plt.imshow(X_test[arincorr[count]].reshape(28,28),cmap='gray',interpolation='none')\n",
        "        plt.title(\"Predicted {}, Class {}\".format(predicted_classes[arincorr[count]], y_test[arincorr[count]]))\n",
        "        count = count+1\n",
        "plt.show() \n",
        "    \n",
        "# for i in range(5):\n",
        "#   for j in range(5):\n",
        "#     #ax = plt.subplot2grid((5,5), (i,j))\n",
        "#     for a in arincorr:\n",
        "#       ax = plt.subplot2grid((5,5), (i,j))\n",
        "#       ax.imshow(X_test[a].reshape(28,28), cmap='gray', interpolation='none')\n",
        "#       break\n",
        "\n",
        "# for a in arincorr:\n",
        "#   plt.imshow(X_test[a].reshape(28,28), cmap='gray', interpolation='none')\n",
        "          #ax.scatter(range(20),range(20)+np.random.randint(-5,5,20))\n",
        "          #ax.title(\"plots\")\n",
        "#plt.show()"
      ],
      "execution_count": 33,
      "outputs": [
        {
          "output_type": "display_data",
          "data": {
            "image/png": "[encoded data removed]",
            "text/plain": [
              "<Figure size 432x288 with 25 Axes>"
            ]
          },
          "metadata": {
            "tags": []
          }
        }
      ]
    },
    {
      "cell_type": "code",
      "metadata": {
        "id": "Ma2jCPj-5F1q",
        "colab_type": "code",
        "colab": {}
      },
      "source": [
        ""
      ],
      "execution_count": 0,
      "outputs": []
    }
  ]
}